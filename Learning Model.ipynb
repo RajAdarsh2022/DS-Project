{
 "cells": [
  {
   "cell_type": "code",
   "execution_count": 1,
   "metadata": {
    "colab": {
     "base_uri": "https://localhost:8080/",
     "height": 1000
    },
    "executionInfo": {
     "elapsed": 5328,
     "status": "ok",
     "timestamp": 1650447969959,
     "user": {
      "displayName": "Dewansh Kumar",
      "userId": "00655038673658959143"
     },
     "user_tz": -330
    },
    "id": "cSfi1Ctfq_BS",
    "outputId": "9bb5f05b-a5c4-45d7-d381-ec704352e4e2"
   },
   "outputs": [
    {
     "data": {
      "text/html": [
       "<div>\n",
       "<style scoped>\n",
       "    .dataframe tbody tr th:only-of-type {\n",
       "        vertical-align: middle;\n",
       "    }\n",
       "\n",
       "    .dataframe tbody tr th {\n",
       "        vertical-align: top;\n",
       "    }\n",
       "\n",
       "    .dataframe thead th {\n",
       "        text-align: right;\n",
       "    }\n",
       "</style>\n",
       "<table border=\"1\" class=\"dataframe\">\n",
       "  <thead>\n",
       "    <tr style=\"text-align: right;\">\n",
       "      <th></th>\n",
       "      <th>Sno</th>\n",
       "      <th>AGE</th>\n",
       "      <th>SEX</th>\n",
       "      <th>CASTE_NAME</th>\n",
       "      <th>CATEGORY_CODE</th>\n",
       "      <th>CATEGORY_NAME</th>\n",
       "      <th>SURGERY_CODE</th>\n",
       "      <th>SURGERY</th>\n",
       "      <th>VILLAGE</th>\n",
       "      <th>MANDAL_NAME</th>\n",
       "      <th>...</th>\n",
       "      <th>CLAIM_DATE</th>\n",
       "      <th>CLAIM_AMOUNT</th>\n",
       "      <th>HOSP_NAME</th>\n",
       "      <th>HOSP_TYPE</th>\n",
       "      <th>HOSP_DISTRICT</th>\n",
       "      <th>SURGERY_DATE</th>\n",
       "      <th>DISCHARGE_DATE</th>\n",
       "      <th>Mortality Y / N</th>\n",
       "      <th>MORTALITY_DATE</th>\n",
       "      <th>SRC_REGISTRATION</th>\n",
       "    </tr>\n",
       "  </thead>\n",
       "  <tbody>\n",
       "    <tr>\n",
       "      <th>0</th>\n",
       "      <td>1</td>\n",
       "      <td>56</td>\n",
       "      <td>Female</td>\n",
       "      <td>BC</td>\n",
       "      <td>M6</td>\n",
       "      <td>NEPHROLOGY</td>\n",
       "      <td>M6.5</td>\n",
       "      <td>Maintenance Hemodialysis For Crf</td>\n",
       "      <td>Lolugu</td>\n",
       "      <td>Ponduru</td>\n",
       "      <td>...</td>\n",
       "      <td>22-03-2017 20:25</td>\n",
       "      <td>11000</td>\n",
       "      <td>Rims Govt. General Hospital, Srikakulam</td>\n",
       "      <td>G</td>\n",
       "      <td>Srikakulam</td>\n",
       "      <td>06-08-2013 00:00</td>\n",
       "      <td>07-09-2013 00:00</td>\n",
       "      <td>NO</td>\n",
       "      <td>NaN</td>\n",
       "      <td>D</td>\n",
       "    </tr>\n",
       "    <tr>\n",
       "      <th>1</th>\n",
       "      <td>2</td>\n",
       "      <td>37</td>\n",
       "      <td>Male</td>\n",
       "      <td>BC</td>\n",
       "      <td>M6</td>\n",
       "      <td>NEPHROLOGY</td>\n",
       "      <td>M6.5</td>\n",
       "      <td>Maintenance Hemodialysis For Crf</td>\n",
       "      <td>Borivanka</td>\n",
       "      <td>Kaviti</td>\n",
       "      <td>...</td>\n",
       "      <td>22-03-2017 20:25</td>\n",
       "      <td>11000</td>\n",
       "      <td>Rims Govt. General Hospital, Srikakulam</td>\n",
       "      <td>G</td>\n",
       "      <td>Srikakulam</td>\n",
       "      <td>08-08-2013 00:00</td>\n",
       "      <td>09-09-2013 00:00</td>\n",
       "      <td>NO</td>\n",
       "      <td>NaN</td>\n",
       "      <td>D</td>\n",
       "    </tr>\n",
       "    <tr>\n",
       "      <th>2</th>\n",
       "      <td>3</td>\n",
       "      <td>50</td>\n",
       "      <td>Male</td>\n",
       "      <td>BC</td>\n",
       "      <td>M6</td>\n",
       "      <td>NEPHROLOGY</td>\n",
       "      <td>M6.5</td>\n",
       "      <td>Maintenance Hemodialysis For Crf</td>\n",
       "      <td>Kapasakuddi</td>\n",
       "      <td>Kaviti</td>\n",
       "      <td>...</td>\n",
       "      <td>22-03-2017 20:25</td>\n",
       "      <td>11500</td>\n",
       "      <td>Rims Govt. General Hospital, Srikakulam</td>\n",
       "      <td>G</td>\n",
       "      <td>Srikakulam</td>\n",
       "      <td>15-08-2013 00:00</td>\n",
       "      <td>18-10-2013 00:00</td>\n",
       "      <td>NO</td>\n",
       "      <td>NaN</td>\n",
       "      <td>D</td>\n",
       "    </tr>\n",
       "    <tr>\n",
       "      <th>3</th>\n",
       "      <td>4</td>\n",
       "      <td>45</td>\n",
       "      <td>Male</td>\n",
       "      <td>BC</td>\n",
       "      <td>M6</td>\n",
       "      <td>NEPHROLOGY</td>\n",
       "      <td>M6.5</td>\n",
       "      <td>Maintenance Hemodialysis For Crf</td>\n",
       "      <td>Telikipenta</td>\n",
       "      <td>Sarubujjili</td>\n",
       "      <td>...</td>\n",
       "      <td>22-03-2017 20:25</td>\n",
       "      <td>11000</td>\n",
       "      <td>Rims Govt. General Hospital, Srikakulam</td>\n",
       "      <td>G</td>\n",
       "      <td>Srikakulam</td>\n",
       "      <td>24-08-2013 00:00</td>\n",
       "      <td>27-09-2013 00:00</td>\n",
       "      <td>NO</td>\n",
       "      <td>NaN</td>\n",
       "      <td>D</td>\n",
       "    </tr>\n",
       "    <tr>\n",
       "      <th>4</th>\n",
       "      <td>5</td>\n",
       "      <td>54</td>\n",
       "      <td>Male</td>\n",
       "      <td>BC</td>\n",
       "      <td>M6</td>\n",
       "      <td>NEPHROLOGY</td>\n",
       "      <td>M6.5</td>\n",
       "      <td>Maintenance Hemodialysis For Crf</td>\n",
       "      <td>Thandemvalasa</td>\n",
       "      <td>Srikakulam</td>\n",
       "      <td>...</td>\n",
       "      <td>22-03-2017 20:25</td>\n",
       "      <td>11000</td>\n",
       "      <td>Rims Govt. General Hospital, Srikakulam</td>\n",
       "      <td>G</td>\n",
       "      <td>Srikakulam</td>\n",
       "      <td>31-08-2013 00:00</td>\n",
       "      <td>02-10-2013 00:00</td>\n",
       "      <td>NO</td>\n",
       "      <td>NaN</td>\n",
       "      <td>D</td>\n",
       "    </tr>\n",
       "    <tr>\n",
       "      <th>...</th>\n",
       "      <td>...</td>\n",
       "      <td>...</td>\n",
       "      <td>...</td>\n",
       "      <td>...</td>\n",
       "      <td>...</td>\n",
       "      <td>...</td>\n",
       "      <td>...</td>\n",
       "      <td>...</td>\n",
       "      <td>...</td>\n",
       "      <td>...</td>\n",
       "      <td>...</td>\n",
       "      <td>...</td>\n",
       "      <td>...</td>\n",
       "      <td>...</td>\n",
       "      <td>...</td>\n",
       "      <td>...</td>\n",
       "      <td>...</td>\n",
       "      <td>...</td>\n",
       "      <td>...</td>\n",
       "      <td>...</td>\n",
       "      <td>...</td>\n",
       "    </tr>\n",
       "    <tr>\n",
       "      <th>479683</th>\n",
       "      <td>479684</td>\n",
       "      <td>22</td>\n",
       "      <td>Female</td>\n",
       "      <td>BC</td>\n",
       "      <td>S4</td>\n",
       "      <td>GYNAECOLOGY AND OBSTETRICS  SURGERY</td>\n",
       "      <td>S4.2.2</td>\n",
       "      <td>Laparoscopic Cystectomy</td>\n",
       "      <td>Kalayakagollu</td>\n",
       "      <td>Butchireddipalem</td>\n",
       "      <td>...</td>\n",
       "      <td>30-12-2017 21:34</td>\n",
       "      <td>24910</td>\n",
       "      <td>Krishna Institute of Medical Sciences Bollinen...</td>\n",
       "      <td>C</td>\n",
       "      <td>Nellore</td>\n",
       "      <td>15-11-2017 00:00</td>\n",
       "      <td>19-11-2017 00:00</td>\n",
       "      <td>NO</td>\n",
       "      <td>NaN</td>\n",
       "      <td>D</td>\n",
       "    </tr>\n",
       "    <tr>\n",
       "      <th>479684</th>\n",
       "      <td>479685</td>\n",
       "      <td>60</td>\n",
       "      <td>Male</td>\n",
       "      <td>BC</td>\n",
       "      <td>S12</td>\n",
       "      <td>MEDICAL ONCOLOGY</td>\n",
       "      <td>S12.16.2.2</td>\n",
       "      <td>Chemotherapy for Non Hodgkin Lymphoma with  R ...</td>\n",
       "      <td>Rajupalem</td>\n",
       "      <td>Kothapatnam</td>\n",
       "      <td>...</td>\n",
       "      <td>30-12-2017 21:37</td>\n",
       "      <td>45910</td>\n",
       "      <td>Manipal Health Enterprises PVT LTD</td>\n",
       "      <td>C</td>\n",
       "      <td>Guntur</td>\n",
       "      <td>17-11-2017 00:00</td>\n",
       "      <td>18-11-2017 00:00</td>\n",
       "      <td>NO</td>\n",
       "      <td>NaN</td>\n",
       "      <td>D</td>\n",
       "    </tr>\n",
       "    <tr>\n",
       "      <th>479685</th>\n",
       "      <td>479686</td>\n",
       "      <td>38</td>\n",
       "      <td>Male</td>\n",
       "      <td>OC</td>\n",
       "      <td>S15</td>\n",
       "      <td>POLY TRAUMA</td>\n",
       "      <td>S15.1.1</td>\n",
       "      <td>Surgical Correction Of Longbone Fracture</td>\n",
       "      <td>Yeturu</td>\n",
       "      <td>Chejerla</td>\n",
       "      <td>...</td>\n",
       "      <td>30-12-2017 21:37</td>\n",
       "      <td>30000</td>\n",
       "      <td>Krishna Institute of Medical Sciences Bollinen...</td>\n",
       "      <td>C</td>\n",
       "      <td>Nellore</td>\n",
       "      <td>16-11-2017 00:00</td>\n",
       "      <td>18-11-2017 00:00</td>\n",
       "      <td>NO</td>\n",
       "      <td>NaN</td>\n",
       "      <td>D</td>\n",
       "    </tr>\n",
       "    <tr>\n",
       "      <th>479686</th>\n",
       "      <td>479687</td>\n",
       "      <td>59</td>\n",
       "      <td>Male</td>\n",
       "      <td>OC</td>\n",
       "      <td>S3</td>\n",
       "      <td>OPHTHALMOLOGY  SURGERY</td>\n",
       "      <td>S3.3.1</td>\n",
       "      <td>Vitrectomy</td>\n",
       "      <td>Ganapavaram</td>\n",
       "      <td>Ganapavaram</td>\n",
       "      <td>...</td>\n",
       "      <td>30-12-2017 21:37</td>\n",
       "      <td>23020</td>\n",
       "      <td>Sankar Eye Hospital</td>\n",
       "      <td>C</td>\n",
       "      <td>Guntur</td>\n",
       "      <td>16-11-2017 00:00</td>\n",
       "      <td>18-11-2017 00:00</td>\n",
       "      <td>NO</td>\n",
       "      <td>NaN</td>\n",
       "      <td>D</td>\n",
       "    </tr>\n",
       "    <tr>\n",
       "      <th>479687</th>\n",
       "      <td>479688</td>\n",
       "      <td>63</td>\n",
       "      <td>Male</td>\n",
       "      <td>OC</td>\n",
       "      <td>S3</td>\n",
       "      <td>OPHTHALMOLOGY  SURGERY</td>\n",
       "      <td>S3.3.1</td>\n",
       "      <td>Vitrectomy</td>\n",
       "      <td>Savarigudem</td>\n",
       "      <td>Gannavaram</td>\n",
       "      <td>...</td>\n",
       "      <td>30-12-2017 21:37</td>\n",
       "      <td>23020</td>\n",
       "      <td>Sankar Eye Hospital</td>\n",
       "      <td>C</td>\n",
       "      <td>Guntur</td>\n",
       "      <td>16-11-2017 00:00</td>\n",
       "      <td>18-11-2017 00:00</td>\n",
       "      <td>NO</td>\n",
       "      <td>NaN</td>\n",
       "      <td>D</td>\n",
       "    </tr>\n",
       "  </tbody>\n",
       "</table>\n",
       "<p>479688 rows × 23 columns</p>\n",
       "</div>"
      ],
      "text/plain": [
       "           Sno  AGE     SEX CASTE_NAME CATEGORY_CODE  \\\n",
       "0            1   56  Female         BC            M6   \n",
       "1            2   37    Male         BC            M6   \n",
       "2            3   50    Male         BC            M6   \n",
       "3            4   45    Male         BC            M6   \n",
       "4            5   54    Male         BC            M6   \n",
       "...        ...  ...     ...        ...           ...   \n",
       "479683  479684   22  Female         BC            S4   \n",
       "479684  479685   60    Male         BC           S12   \n",
       "479685  479686   38    Male         OC           S15   \n",
       "479686  479687   59    Male         OC            S3   \n",
       "479687  479688   63    Male         OC            S3   \n",
       "\n",
       "                              CATEGORY_NAME SURGERY_CODE  \\\n",
       "0                                NEPHROLOGY         M6.5   \n",
       "1                                NEPHROLOGY         M6.5   \n",
       "2                                NEPHROLOGY         M6.5   \n",
       "3                                NEPHROLOGY         M6.5   \n",
       "4                                NEPHROLOGY         M6.5   \n",
       "...                                     ...          ...   \n",
       "479683  GYNAECOLOGY AND OBSTETRICS  SURGERY       S4.2.2   \n",
       "479684                     MEDICAL ONCOLOGY   S12.16.2.2   \n",
       "479685                          POLY TRAUMA      S15.1.1   \n",
       "479686               OPHTHALMOLOGY  SURGERY       S3.3.1   \n",
       "479687               OPHTHALMOLOGY  SURGERY       S3.3.1   \n",
       "\n",
       "                                                  SURGERY        VILLAGE  \\\n",
       "0                        Maintenance Hemodialysis For Crf         Lolugu   \n",
       "1                        Maintenance Hemodialysis For Crf      Borivanka   \n",
       "2                        Maintenance Hemodialysis For Crf    Kapasakuddi   \n",
       "3                        Maintenance Hemodialysis For Crf    Telikipenta   \n",
       "4                        Maintenance Hemodialysis For Crf  Thandemvalasa   \n",
       "...                                                   ...            ...   \n",
       "479683                            Laparoscopic Cystectomy  Kalayakagollu   \n",
       "479684  Chemotherapy for Non Hodgkin Lymphoma with  R ...      Rajupalem   \n",
       "479685           Surgical Correction Of Longbone Fracture         Yeturu   \n",
       "479686                                         Vitrectomy    Ganapavaram   \n",
       "479687                                         Vitrectomy    Savarigudem   \n",
       "\n",
       "             MANDAL_NAME  ...        CLAIM_DATE CLAIM_AMOUNT  \\\n",
       "0                Ponduru  ...  22-03-2017 20:25        11000   \n",
       "1                 Kaviti  ...  22-03-2017 20:25        11000   \n",
       "2                 Kaviti  ...  22-03-2017 20:25        11500   \n",
       "3            Sarubujjili  ...  22-03-2017 20:25        11000   \n",
       "4             Srikakulam  ...  22-03-2017 20:25        11000   \n",
       "...                  ...  ...               ...          ...   \n",
       "479683  Butchireddipalem  ...  30-12-2017 21:34        24910   \n",
       "479684       Kothapatnam  ...  30-12-2017 21:37        45910   \n",
       "479685          Chejerla  ...  30-12-2017 21:37        30000   \n",
       "479686       Ganapavaram  ...  30-12-2017 21:37        23020   \n",
       "479687        Gannavaram  ...  30-12-2017 21:37        23020   \n",
       "\n",
       "                                                HOSP_NAME HOSP_TYPE  \\\n",
       "0                 Rims Govt. General Hospital, Srikakulam         G   \n",
       "1                 Rims Govt. General Hospital, Srikakulam         G   \n",
       "2                 Rims Govt. General Hospital, Srikakulam         G   \n",
       "3                 Rims Govt. General Hospital, Srikakulam         G   \n",
       "4                 Rims Govt. General Hospital, Srikakulam         G   \n",
       "...                                                   ...       ...   \n",
       "479683  Krishna Institute of Medical Sciences Bollinen...         C   \n",
       "479684                 Manipal Health Enterprises PVT LTD         C   \n",
       "479685  Krishna Institute of Medical Sciences Bollinen...         C   \n",
       "479686                                Sankar Eye Hospital         C   \n",
       "479687                                Sankar Eye Hospital         C   \n",
       "\n",
       "        HOSP_DISTRICT      SURGERY_DATE    DISCHARGE_DATE Mortality Y / N  \\\n",
       "0          Srikakulam  06-08-2013 00:00  07-09-2013 00:00              NO   \n",
       "1          Srikakulam  08-08-2013 00:00  09-09-2013 00:00              NO   \n",
       "2          Srikakulam  15-08-2013 00:00  18-10-2013 00:00              NO   \n",
       "3          Srikakulam  24-08-2013 00:00  27-09-2013 00:00              NO   \n",
       "4          Srikakulam  31-08-2013 00:00  02-10-2013 00:00              NO   \n",
       "...               ...               ...               ...             ...   \n",
       "479683        Nellore  15-11-2017 00:00  19-11-2017 00:00              NO   \n",
       "479684         Guntur  17-11-2017 00:00  18-11-2017 00:00              NO   \n",
       "479685        Nellore  16-11-2017 00:00  18-11-2017 00:00              NO   \n",
       "479686         Guntur  16-11-2017 00:00  18-11-2017 00:00              NO   \n",
       "479687         Guntur  16-11-2017 00:00  18-11-2017 00:00              NO   \n",
       "\n",
       "       MORTALITY_DATE SRC_REGISTRATION  \n",
       "0                 NaN                D  \n",
       "1                 NaN                D  \n",
       "2                 NaN                D  \n",
       "3                 NaN                D  \n",
       "4                 NaN                D  \n",
       "...               ...              ...  \n",
       "479683            NaN                D  \n",
       "479684            NaN                D  \n",
       "479685            NaN                D  \n",
       "479686            NaN                D  \n",
       "479687            NaN                D  \n",
       "\n",
       "[479688 rows x 23 columns]"
      ]
     },
     "execution_count": 1,
     "metadata": {},
     "output_type": "execute_result"
    }
   ],
   "source": [
    "import pandas as pd\n",
    "import numpy as np\n",
    "import matplotlib.pyplot as plt\n",
    "import seaborn as sns\n",
    "from datetime import datetime\n",
    "import scipy.stats as stats\n",
    "from sklearn.metrics import r2_score\n",
    "data= pd.read_csv('Andhra_Health_Data.csv')\n",
    "data"
   ]
  },
  {
   "cell_type": "code",
   "execution_count": 2,
   "metadata": {
    "colab": {
     "base_uri": "https://localhost:8080/",
     "height": 1000
    },
    "executionInfo": {
     "elapsed": 5105,
     "status": "ok",
     "timestamp": 1650447975052,
     "user": {
      "displayName": "Dewansh Kumar",
      "userId": "00655038673658959143"
     },
     "user_tz": -330
    },
    "id": "xjy-_GZxxwao",
    "outputId": "b2e98187-98b2-4f32-cd5d-d9b06fbbca01"
   },
   "outputs": [
    {
     "data": {
      "text/html": [
       "<div>\n",
       "<style scoped>\n",
       "    .dataframe tbody tr th:only-of-type {\n",
       "        vertical-align: middle;\n",
       "    }\n",
       "\n",
       "    .dataframe tbody tr th {\n",
       "        vertical-align: top;\n",
       "    }\n",
       "\n",
       "    .dataframe thead th {\n",
       "        text-align: right;\n",
       "    }\n",
       "</style>\n",
       "<table border=\"1\" class=\"dataframe\">\n",
       "  <thead>\n",
       "    <tr style=\"text-align: right;\">\n",
       "      <th></th>\n",
       "      <th>Sno</th>\n",
       "      <th>AGE</th>\n",
       "      <th>SEX</th>\n",
       "      <th>CASTE_NAME</th>\n",
       "      <th>CATEGORY_CODE</th>\n",
       "      <th>CATEGORY_NAME</th>\n",
       "      <th>SURGERY_CODE</th>\n",
       "      <th>SURGERY</th>\n",
       "      <th>VILLAGE</th>\n",
       "      <th>MANDAL_NAME</th>\n",
       "      <th>...</th>\n",
       "      <th>CLAIM_DATE</th>\n",
       "      <th>CLAIM_AMOUNT</th>\n",
       "      <th>HOSP_NAME</th>\n",
       "      <th>HOSP_TYPE</th>\n",
       "      <th>HOSP_DISTRICT</th>\n",
       "      <th>SURGERY_DATE</th>\n",
       "      <th>DISCHARGE_DATE</th>\n",
       "      <th>Mortality Y / N</th>\n",
       "      <th>MORTALITY_DATE</th>\n",
       "      <th>SRC_REGISTRATION</th>\n",
       "    </tr>\n",
       "  </thead>\n",
       "  <tbody>\n",
       "    <tr>\n",
       "      <th>0</th>\n",
       "      <td>1</td>\n",
       "      <td>56</td>\n",
       "      <td>Female</td>\n",
       "      <td>BC</td>\n",
       "      <td>M6</td>\n",
       "      <td>NEPHROLOGY</td>\n",
       "      <td>M6.5</td>\n",
       "      <td>Maintenance Hemodialysis For Crf</td>\n",
       "      <td>Lolugu</td>\n",
       "      <td>Ponduru</td>\n",
       "      <td>...</td>\n",
       "      <td>22-03-2017 20:25</td>\n",
       "      <td>11000</td>\n",
       "      <td>Rims Govt. General Hospital, Srikakulam</td>\n",
       "      <td>G</td>\n",
       "      <td>Srikakulam</td>\n",
       "      <td>06-08-2013 00:00</td>\n",
       "      <td>07-09-2013 00:00</td>\n",
       "      <td>NO</td>\n",
       "      <td>NaN</td>\n",
       "      <td>D</td>\n",
       "    </tr>\n",
       "    <tr>\n",
       "      <th>1</th>\n",
       "      <td>2</td>\n",
       "      <td>37</td>\n",
       "      <td>Male</td>\n",
       "      <td>BC</td>\n",
       "      <td>M6</td>\n",
       "      <td>NEPHROLOGY</td>\n",
       "      <td>M6.5</td>\n",
       "      <td>Maintenance Hemodialysis For Crf</td>\n",
       "      <td>Borivanka</td>\n",
       "      <td>Kaviti</td>\n",
       "      <td>...</td>\n",
       "      <td>22-03-2017 20:25</td>\n",
       "      <td>11000</td>\n",
       "      <td>Rims Govt. General Hospital, Srikakulam</td>\n",
       "      <td>G</td>\n",
       "      <td>Srikakulam</td>\n",
       "      <td>08-08-2013 00:00</td>\n",
       "      <td>09-09-2013 00:00</td>\n",
       "      <td>NO</td>\n",
       "      <td>NaN</td>\n",
       "      <td>D</td>\n",
       "    </tr>\n",
       "    <tr>\n",
       "      <th>2</th>\n",
       "      <td>3</td>\n",
       "      <td>50</td>\n",
       "      <td>Male</td>\n",
       "      <td>BC</td>\n",
       "      <td>M6</td>\n",
       "      <td>NEPHROLOGY</td>\n",
       "      <td>M6.5</td>\n",
       "      <td>Maintenance Hemodialysis For Crf</td>\n",
       "      <td>Kapasakuddi</td>\n",
       "      <td>Kaviti</td>\n",
       "      <td>...</td>\n",
       "      <td>22-03-2017 20:25</td>\n",
       "      <td>11500</td>\n",
       "      <td>Rims Govt. General Hospital, Srikakulam</td>\n",
       "      <td>G</td>\n",
       "      <td>Srikakulam</td>\n",
       "      <td>15-08-2013 00:00</td>\n",
       "      <td>18-10-2013 00:00</td>\n",
       "      <td>NO</td>\n",
       "      <td>NaN</td>\n",
       "      <td>D</td>\n",
       "    </tr>\n",
       "    <tr>\n",
       "      <th>3</th>\n",
       "      <td>4</td>\n",
       "      <td>45</td>\n",
       "      <td>Male</td>\n",
       "      <td>BC</td>\n",
       "      <td>M6</td>\n",
       "      <td>NEPHROLOGY</td>\n",
       "      <td>M6.5</td>\n",
       "      <td>Maintenance Hemodialysis For Crf</td>\n",
       "      <td>Telikipenta</td>\n",
       "      <td>Sarubujjili</td>\n",
       "      <td>...</td>\n",
       "      <td>22-03-2017 20:25</td>\n",
       "      <td>11000</td>\n",
       "      <td>Rims Govt. General Hospital, Srikakulam</td>\n",
       "      <td>G</td>\n",
       "      <td>Srikakulam</td>\n",
       "      <td>24-08-2013 00:00</td>\n",
       "      <td>27-09-2013 00:00</td>\n",
       "      <td>NO</td>\n",
       "      <td>NaN</td>\n",
       "      <td>D</td>\n",
       "    </tr>\n",
       "    <tr>\n",
       "      <th>4</th>\n",
       "      <td>5</td>\n",
       "      <td>54</td>\n",
       "      <td>Male</td>\n",
       "      <td>BC</td>\n",
       "      <td>M6</td>\n",
       "      <td>NEPHROLOGY</td>\n",
       "      <td>M6.5</td>\n",
       "      <td>Maintenance Hemodialysis For Crf</td>\n",
       "      <td>Thandemvalasa</td>\n",
       "      <td>Srikakulam</td>\n",
       "      <td>...</td>\n",
       "      <td>22-03-2017 20:25</td>\n",
       "      <td>11000</td>\n",
       "      <td>Rims Govt. General Hospital, Srikakulam</td>\n",
       "      <td>G</td>\n",
       "      <td>Srikakulam</td>\n",
       "      <td>31-08-2013 00:00</td>\n",
       "      <td>02-10-2013 00:00</td>\n",
       "      <td>NO</td>\n",
       "      <td>NaN</td>\n",
       "      <td>D</td>\n",
       "    </tr>\n",
       "    <tr>\n",
       "      <th>...</th>\n",
       "      <td>...</td>\n",
       "      <td>...</td>\n",
       "      <td>...</td>\n",
       "      <td>...</td>\n",
       "      <td>...</td>\n",
       "      <td>...</td>\n",
       "      <td>...</td>\n",
       "      <td>...</td>\n",
       "      <td>...</td>\n",
       "      <td>...</td>\n",
       "      <td>...</td>\n",
       "      <td>...</td>\n",
       "      <td>...</td>\n",
       "      <td>...</td>\n",
       "      <td>...</td>\n",
       "      <td>...</td>\n",
       "      <td>...</td>\n",
       "      <td>...</td>\n",
       "      <td>...</td>\n",
       "      <td>...</td>\n",
       "      <td>...</td>\n",
       "    </tr>\n",
       "    <tr>\n",
       "      <th>479683</th>\n",
       "      <td>479684</td>\n",
       "      <td>22</td>\n",
       "      <td>Female</td>\n",
       "      <td>BC</td>\n",
       "      <td>S4</td>\n",
       "      <td>GYNAECOLOGY AND OBSTETRICS  SURGERY</td>\n",
       "      <td>S4.2.2</td>\n",
       "      <td>Laparoscopic Cystectomy</td>\n",
       "      <td>Kalayakagollu</td>\n",
       "      <td>Butchireddipalem</td>\n",
       "      <td>...</td>\n",
       "      <td>30-12-2017 21:34</td>\n",
       "      <td>24910</td>\n",
       "      <td>Krishna Institute of Medical Sciences Bollinen...</td>\n",
       "      <td>C</td>\n",
       "      <td>Nellore</td>\n",
       "      <td>15-11-2017 00:00</td>\n",
       "      <td>19-11-2017 00:00</td>\n",
       "      <td>NO</td>\n",
       "      <td>NaN</td>\n",
       "      <td>D</td>\n",
       "    </tr>\n",
       "    <tr>\n",
       "      <th>479684</th>\n",
       "      <td>479685</td>\n",
       "      <td>60</td>\n",
       "      <td>Male</td>\n",
       "      <td>BC</td>\n",
       "      <td>S12</td>\n",
       "      <td>MEDICAL ONCOLOGY</td>\n",
       "      <td>S12.16.2.2</td>\n",
       "      <td>Chemotherapy for Non Hodgkin Lymphoma with  R ...</td>\n",
       "      <td>Rajupalem</td>\n",
       "      <td>Kothapatnam</td>\n",
       "      <td>...</td>\n",
       "      <td>30-12-2017 21:37</td>\n",
       "      <td>45910</td>\n",
       "      <td>Manipal Health Enterprises PVT LTD</td>\n",
       "      <td>C</td>\n",
       "      <td>Guntur</td>\n",
       "      <td>17-11-2017 00:00</td>\n",
       "      <td>18-11-2017 00:00</td>\n",
       "      <td>NO</td>\n",
       "      <td>NaN</td>\n",
       "      <td>D</td>\n",
       "    </tr>\n",
       "    <tr>\n",
       "      <th>479685</th>\n",
       "      <td>479686</td>\n",
       "      <td>38</td>\n",
       "      <td>Male</td>\n",
       "      <td>OC</td>\n",
       "      <td>S15</td>\n",
       "      <td>POLY TRAUMA</td>\n",
       "      <td>S15.1.1</td>\n",
       "      <td>Surgical Correction Of Longbone Fracture</td>\n",
       "      <td>Yeturu</td>\n",
       "      <td>Chejerla</td>\n",
       "      <td>...</td>\n",
       "      <td>30-12-2017 21:37</td>\n",
       "      <td>30000</td>\n",
       "      <td>Krishna Institute of Medical Sciences Bollinen...</td>\n",
       "      <td>C</td>\n",
       "      <td>Nellore</td>\n",
       "      <td>16-11-2017 00:00</td>\n",
       "      <td>18-11-2017 00:00</td>\n",
       "      <td>NO</td>\n",
       "      <td>NaN</td>\n",
       "      <td>D</td>\n",
       "    </tr>\n",
       "    <tr>\n",
       "      <th>479686</th>\n",
       "      <td>479687</td>\n",
       "      <td>59</td>\n",
       "      <td>Male</td>\n",
       "      <td>OC</td>\n",
       "      <td>S3</td>\n",
       "      <td>OPHTHALMOLOGY  SURGERY</td>\n",
       "      <td>S3.3.1</td>\n",
       "      <td>Vitrectomy</td>\n",
       "      <td>Ganapavaram</td>\n",
       "      <td>Ganapavaram</td>\n",
       "      <td>...</td>\n",
       "      <td>30-12-2017 21:37</td>\n",
       "      <td>23020</td>\n",
       "      <td>Sankar Eye Hospital</td>\n",
       "      <td>C</td>\n",
       "      <td>Guntur</td>\n",
       "      <td>16-11-2017 00:00</td>\n",
       "      <td>18-11-2017 00:00</td>\n",
       "      <td>NO</td>\n",
       "      <td>NaN</td>\n",
       "      <td>D</td>\n",
       "    </tr>\n",
       "    <tr>\n",
       "      <th>479687</th>\n",
       "      <td>479688</td>\n",
       "      <td>63</td>\n",
       "      <td>Male</td>\n",
       "      <td>OC</td>\n",
       "      <td>S3</td>\n",
       "      <td>OPHTHALMOLOGY  SURGERY</td>\n",
       "      <td>S3.3.1</td>\n",
       "      <td>Vitrectomy</td>\n",
       "      <td>Savarigudem</td>\n",
       "      <td>Gannavaram</td>\n",
       "      <td>...</td>\n",
       "      <td>30-12-2017 21:37</td>\n",
       "      <td>23020</td>\n",
       "      <td>Sankar Eye Hospital</td>\n",
       "      <td>C</td>\n",
       "      <td>Guntur</td>\n",
       "      <td>16-11-2017 00:00</td>\n",
       "      <td>18-11-2017 00:00</td>\n",
       "      <td>NO</td>\n",
       "      <td>NaN</td>\n",
       "      <td>D</td>\n",
       "    </tr>\n",
       "  </tbody>\n",
       "</table>\n",
       "<p>479688 rows × 23 columns</p>\n",
       "</div>"
      ],
      "text/plain": [
       "           Sno  AGE     SEX CASTE_NAME CATEGORY_CODE  \\\n",
       "0            1   56  Female         BC            M6   \n",
       "1            2   37    Male         BC            M6   \n",
       "2            3   50    Male         BC            M6   \n",
       "3            4   45    Male         BC            M6   \n",
       "4            5   54    Male         BC            M6   \n",
       "...        ...  ...     ...        ...           ...   \n",
       "479683  479684   22  Female         BC            S4   \n",
       "479684  479685   60    Male         BC           S12   \n",
       "479685  479686   38    Male         OC           S15   \n",
       "479686  479687   59    Male         OC            S3   \n",
       "479687  479688   63    Male         OC            S3   \n",
       "\n",
       "                              CATEGORY_NAME SURGERY_CODE  \\\n",
       "0                                NEPHROLOGY         M6.5   \n",
       "1                                NEPHROLOGY         M6.5   \n",
       "2                                NEPHROLOGY         M6.5   \n",
       "3                                NEPHROLOGY         M6.5   \n",
       "4                                NEPHROLOGY         M6.5   \n",
       "...                                     ...          ...   \n",
       "479683  GYNAECOLOGY AND OBSTETRICS  SURGERY       S4.2.2   \n",
       "479684                     MEDICAL ONCOLOGY   S12.16.2.2   \n",
       "479685                          POLY TRAUMA      S15.1.1   \n",
       "479686               OPHTHALMOLOGY  SURGERY       S3.3.1   \n",
       "479687               OPHTHALMOLOGY  SURGERY       S3.3.1   \n",
       "\n",
       "                                                  SURGERY        VILLAGE  \\\n",
       "0                        Maintenance Hemodialysis For Crf         Lolugu   \n",
       "1                        Maintenance Hemodialysis For Crf      Borivanka   \n",
       "2                        Maintenance Hemodialysis For Crf    Kapasakuddi   \n",
       "3                        Maintenance Hemodialysis For Crf    Telikipenta   \n",
       "4                        Maintenance Hemodialysis For Crf  Thandemvalasa   \n",
       "...                                                   ...            ...   \n",
       "479683                            Laparoscopic Cystectomy  Kalayakagollu   \n",
       "479684  Chemotherapy for Non Hodgkin Lymphoma with  R ...      Rajupalem   \n",
       "479685           Surgical Correction Of Longbone Fracture         Yeturu   \n",
       "479686                                         Vitrectomy    Ganapavaram   \n",
       "479687                                         Vitrectomy    Savarigudem   \n",
       "\n",
       "             MANDAL_NAME  ...        CLAIM_DATE CLAIM_AMOUNT  \\\n",
       "0                Ponduru  ...  22-03-2017 20:25        11000   \n",
       "1                 Kaviti  ...  22-03-2017 20:25        11000   \n",
       "2                 Kaviti  ...  22-03-2017 20:25        11500   \n",
       "3            Sarubujjili  ...  22-03-2017 20:25        11000   \n",
       "4             Srikakulam  ...  22-03-2017 20:25        11000   \n",
       "...                  ...  ...               ...          ...   \n",
       "479683  Butchireddipalem  ...  30-12-2017 21:34        24910   \n",
       "479684       Kothapatnam  ...  30-12-2017 21:37        45910   \n",
       "479685          Chejerla  ...  30-12-2017 21:37        30000   \n",
       "479686       Ganapavaram  ...  30-12-2017 21:37        23020   \n",
       "479687        Gannavaram  ...  30-12-2017 21:37        23020   \n",
       "\n",
       "                                                HOSP_NAME HOSP_TYPE  \\\n",
       "0                 Rims Govt. General Hospital, Srikakulam         G   \n",
       "1                 Rims Govt. General Hospital, Srikakulam         G   \n",
       "2                 Rims Govt. General Hospital, Srikakulam         G   \n",
       "3                 Rims Govt. General Hospital, Srikakulam         G   \n",
       "4                 Rims Govt. General Hospital, Srikakulam         G   \n",
       "...                                                   ...       ...   \n",
       "479683  Krishna Institute of Medical Sciences Bollinen...         C   \n",
       "479684                 Manipal Health Enterprises PVT LTD         C   \n",
       "479685  Krishna Institute of Medical Sciences Bollinen...         C   \n",
       "479686                                Sankar Eye Hospital         C   \n",
       "479687                                Sankar Eye Hospital         C   \n",
       "\n",
       "        HOSP_DISTRICT      SURGERY_DATE    DISCHARGE_DATE Mortality Y / N  \\\n",
       "0          Srikakulam  06-08-2013 00:00  07-09-2013 00:00              NO   \n",
       "1          Srikakulam  08-08-2013 00:00  09-09-2013 00:00              NO   \n",
       "2          Srikakulam  15-08-2013 00:00  18-10-2013 00:00              NO   \n",
       "3          Srikakulam  24-08-2013 00:00  27-09-2013 00:00              NO   \n",
       "4          Srikakulam  31-08-2013 00:00  02-10-2013 00:00              NO   \n",
       "...               ...               ...               ...             ...   \n",
       "479683        Nellore  15-11-2017 00:00  19-11-2017 00:00              NO   \n",
       "479684         Guntur  17-11-2017 00:00  18-11-2017 00:00              NO   \n",
       "479685        Nellore  16-11-2017 00:00  18-11-2017 00:00              NO   \n",
       "479686         Guntur  16-11-2017 00:00  18-11-2017 00:00              NO   \n",
       "479687         Guntur  16-11-2017 00:00  18-11-2017 00:00              NO   \n",
       "\n",
       "       MORTALITY_DATE SRC_REGISTRATION  \n",
       "0                 NaN                D  \n",
       "1                 NaN                D  \n",
       "2                 NaN                D  \n",
       "3                 NaN                D  \n",
       "4                 NaN                D  \n",
       "...               ...              ...  \n",
       "479683            NaN                D  \n",
       "479684            NaN                D  \n",
       "479685            NaN                D  \n",
       "479686            NaN                D  \n",
       "479687            NaN                D  \n",
       "\n",
       "[479688 rows x 23 columns]"
      ]
     },
     "execution_count": 2,
     "metadata": {},
     "output_type": "execute_result"
    }
   ],
   "source": [
    "data= pd.read_csv('Andhra_Health_Data.csv')\n",
    "data"
   ]
  },
  {
   "cell_type": "code",
   "execution_count": 3,
   "metadata": {
    "colab": {
     "base_uri": "https://localhost:8080/",
     "height": 423
    },
    "executionInfo": {
     "elapsed": 1013,
     "status": "ok",
     "timestamp": 1650447976043,
     "user": {
      "displayName": "Dewansh Kumar",
      "userId": "00655038673658959143"
     },
     "user_tz": -330
    },
    "id": "vKmSZOrrypPc",
    "outputId": "032e9f53-9ccd-41c4-9b29-9acacf729b65"
   },
   "outputs": [
    {
     "data": {
      "text/html": [
       "<div>\n",
       "<style scoped>\n",
       "    .dataframe tbody tr th:only-of-type {\n",
       "        vertical-align: middle;\n",
       "    }\n",
       "\n",
       "    .dataframe tbody tr th {\n",
       "        vertical-align: top;\n",
       "    }\n",
       "\n",
       "    .dataframe thead th {\n",
       "        text-align: right;\n",
       "    }\n",
       "</style>\n",
       "<table border=\"1\" class=\"dataframe\">\n",
       "  <thead>\n",
       "    <tr style=\"text-align: right;\">\n",
       "      <th></th>\n",
       "      <th>AGE</th>\n",
       "      <th>SEX</th>\n",
       "      <th>DISTRICT_NAME</th>\n",
       "      <th>CATEGORY_NAME</th>\n",
       "    </tr>\n",
       "  </thead>\n",
       "  <tbody>\n",
       "    <tr>\n",
       "      <th>0</th>\n",
       "      <td>56</td>\n",
       "      <td>Female</td>\n",
       "      <td>Srikakulam</td>\n",
       "      <td>NEPHROLOGY</td>\n",
       "    </tr>\n",
       "    <tr>\n",
       "      <th>1</th>\n",
       "      <td>37</td>\n",
       "      <td>Male</td>\n",
       "      <td>Srikakulam</td>\n",
       "      <td>NEPHROLOGY</td>\n",
       "    </tr>\n",
       "    <tr>\n",
       "      <th>2</th>\n",
       "      <td>50</td>\n",
       "      <td>Male</td>\n",
       "      <td>Srikakulam</td>\n",
       "      <td>NEPHROLOGY</td>\n",
       "    </tr>\n",
       "    <tr>\n",
       "      <th>3</th>\n",
       "      <td>45</td>\n",
       "      <td>Male</td>\n",
       "      <td>Srikakulam</td>\n",
       "      <td>NEPHROLOGY</td>\n",
       "    </tr>\n",
       "    <tr>\n",
       "      <th>4</th>\n",
       "      <td>54</td>\n",
       "      <td>Male</td>\n",
       "      <td>Srikakulam</td>\n",
       "      <td>NEPHROLOGY</td>\n",
       "    </tr>\n",
       "    <tr>\n",
       "      <th>...</th>\n",
       "      <td>...</td>\n",
       "      <td>...</td>\n",
       "      <td>...</td>\n",
       "      <td>...</td>\n",
       "    </tr>\n",
       "    <tr>\n",
       "      <th>479683</th>\n",
       "      <td>22</td>\n",
       "      <td>Female</td>\n",
       "      <td>Nellore</td>\n",
       "      <td>GYNAECOLOGY AND OBSTETRICS  SURGERY</td>\n",
       "    </tr>\n",
       "    <tr>\n",
       "      <th>479684</th>\n",
       "      <td>60</td>\n",
       "      <td>Male</td>\n",
       "      <td>Prakasam</td>\n",
       "      <td>MEDICAL ONCOLOGY</td>\n",
       "    </tr>\n",
       "    <tr>\n",
       "      <th>479685</th>\n",
       "      <td>38</td>\n",
       "      <td>Male</td>\n",
       "      <td>Nellore</td>\n",
       "      <td>POLY TRAUMA</td>\n",
       "    </tr>\n",
       "    <tr>\n",
       "      <th>479686</th>\n",
       "      <td>59</td>\n",
       "      <td>Male</td>\n",
       "      <td>West Godavari</td>\n",
       "      <td>OPHTHALMOLOGY  SURGERY</td>\n",
       "    </tr>\n",
       "    <tr>\n",
       "      <th>479687</th>\n",
       "      <td>63</td>\n",
       "      <td>Male</td>\n",
       "      <td>Krishna</td>\n",
       "      <td>OPHTHALMOLOGY  SURGERY</td>\n",
       "    </tr>\n",
       "  </tbody>\n",
       "</table>\n",
       "<p>479688 rows × 4 columns</p>\n",
       "</div>"
      ],
      "text/plain": [
       "        AGE     SEX  DISTRICT_NAME                        CATEGORY_NAME\n",
       "0        56  Female     Srikakulam                           NEPHROLOGY\n",
       "1        37    Male     Srikakulam                           NEPHROLOGY\n",
       "2        50    Male     Srikakulam                           NEPHROLOGY\n",
       "3        45    Male     Srikakulam                           NEPHROLOGY\n",
       "4        54    Male     Srikakulam                           NEPHROLOGY\n",
       "...     ...     ...            ...                                  ...\n",
       "479683   22  Female        Nellore  GYNAECOLOGY AND OBSTETRICS  SURGERY\n",
       "479684   60    Male       Prakasam                     MEDICAL ONCOLOGY\n",
       "479685   38    Male        Nellore                          POLY TRAUMA\n",
       "479686   59    Male  West Godavari               OPHTHALMOLOGY  SURGERY\n",
       "479687   63    Male        Krishna               OPHTHALMOLOGY  SURGERY\n",
       "\n",
       "[479688 rows x 4 columns]"
      ]
     },
     "execution_count": 3,
     "metadata": {},
     "output_type": "execute_result"
    }
   ],
   "source": [
    "df2 = pd.DataFrame().assign(AGE=data['AGE'], SEX=data['SEX'], DISTRICT_NAME=data['DISTRICT_NAME'], CATEGORY_NAME=data['CATEGORY_NAME'])\n",
    "df2"
   ]
  },
  {
   "cell_type": "code",
   "execution_count": 4,
   "metadata": {
    "colab": {
     "base_uri": "https://localhost:8080/"
    },
    "executionInfo": {
     "elapsed": 42,
     "status": "ok",
     "timestamp": 1650447976045,
     "user": {
      "displayName": "Dewansh Kumar",
      "userId": "00655038673658959143"
     },
     "user_tz": -330
    },
    "id": "mXi1GKUinrZd",
    "outputId": "11517706-a908-4844-c7f5-a55c871bd624"
   },
   "outputs": [
    {
     "data": {
      "text/plain": [
       "Male             260718\n",
       "Female           178947\n",
       "Male(Child)       25068\n",
       "Female(Child)     14925\n",
       "FEMALE               21\n",
       "MALE                  9\n",
       "Name: SEX, dtype: int64"
      ]
     },
     "execution_count": 4,
     "metadata": {},
     "output_type": "execute_result"
    }
   ],
   "source": [
    "df2['SEX'].value_counts()"
   ]
  },
  {
   "cell_type": "code",
   "execution_count": 5,
   "metadata": {
    "colab": {
     "base_uri": "https://localhost:8080/"
    },
    "executionInfo": {
     "elapsed": 34,
     "status": "ok",
     "timestamp": 1650447976046,
     "user": {
      "displayName": "Dewansh Kumar",
      "userId": "00655038673658959143"
     },
     "user_tz": -330
    },
    "id": "YZZ0tV0DsJE8",
    "outputId": "1f7f4641-f08f-4aa7-a162-0fc0c6269220"
   },
   "outputs": [
    {
     "data": {
      "text/plain": [
       "Male      285795\n",
       "Female    193893\n",
       "Name: SEX, dtype: int64"
      ]
     },
     "execution_count": 5,
     "metadata": {},
     "output_type": "execute_result"
    }
   ],
   "source": [
    "df2['SEX'] = df2['SEX'].map({'Male':'Male','Female':'Female','Male(Child)':'Male','Female(Child)':'Female','FEMALE':'Female','MALE':'Male' })\n",
    "df2['SEX'].value_counts()"
   ]
  },
  {
   "cell_type": "code",
   "execution_count": 6,
   "metadata": {
    "colab": {
     "base_uri": "https://localhost:8080/"
    },
    "executionInfo": {
     "elapsed": 31,
     "status": "ok",
     "timestamp": 1650447976047,
     "user": {
      "displayName": "Dewansh Kumar",
      "userId": "00655038673658959143"
     },
     "user_tz": -330
    },
    "id": "2tH6R4f-v3OI",
    "outputId": "cff7ba1b-50cb-4c86-cdcc-b80c629f285f"
   },
   "outputs": [
    {
     "data": {
      "text/plain": [
       "1    285795\n",
       "0    193893\n",
       "Name: SEX, dtype: int64"
      ]
     },
     "execution_count": 6,
     "metadata": {},
     "output_type": "execute_result"
    }
   ],
   "source": [
    "df2['SEX'] = df2['SEX'].map({'Male':1,'Female':0})\n",
    "df2['SEX'].value_counts()"
   ]
  },
  {
   "cell_type": "code",
   "execution_count": 7,
   "metadata": {
    "colab": {
     "base_uri": "https://localhost:8080/",
     "height": 423
    },
    "executionInfo": {
     "elapsed": 29,
     "status": "ok",
     "timestamp": 1650447976049,
     "user": {
      "displayName": "Dewansh Kumar",
      "userId": "00655038673658959143"
     },
     "user_tz": -330
    },
    "id": "23usayJ_3IBm",
    "outputId": "0b07fdd8-3dde-46c8-8ed9-601dd89102b5"
   },
   "outputs": [
    {
     "data": {
      "text/html": [
       "<div>\n",
       "<style scoped>\n",
       "    .dataframe tbody tr th:only-of-type {\n",
       "        vertical-align: middle;\n",
       "    }\n",
       "\n",
       "    .dataframe tbody tr th {\n",
       "        vertical-align: top;\n",
       "    }\n",
       "\n",
       "    .dataframe thead th {\n",
       "        text-align: right;\n",
       "    }\n",
       "</style>\n",
       "<table border=\"1\" class=\"dataframe\">\n",
       "  <thead>\n",
       "    <tr style=\"text-align: right;\">\n",
       "      <th></th>\n",
       "      <th>AGE</th>\n",
       "      <th>SEX</th>\n",
       "      <th>DISTRICT_NAME</th>\n",
       "      <th>CATEGORY_NAME</th>\n",
       "    </tr>\n",
       "  </thead>\n",
       "  <tbody>\n",
       "    <tr>\n",
       "      <th>0</th>\n",
       "      <td>56</td>\n",
       "      <td>0</td>\n",
       "      <td>Srikakulam</td>\n",
       "      <td>NEPHROLOGY</td>\n",
       "    </tr>\n",
       "    <tr>\n",
       "      <th>1</th>\n",
       "      <td>37</td>\n",
       "      <td>1</td>\n",
       "      <td>Srikakulam</td>\n",
       "      <td>NEPHROLOGY</td>\n",
       "    </tr>\n",
       "    <tr>\n",
       "      <th>2</th>\n",
       "      <td>50</td>\n",
       "      <td>1</td>\n",
       "      <td>Srikakulam</td>\n",
       "      <td>NEPHROLOGY</td>\n",
       "    </tr>\n",
       "    <tr>\n",
       "      <th>3</th>\n",
       "      <td>45</td>\n",
       "      <td>1</td>\n",
       "      <td>Srikakulam</td>\n",
       "      <td>NEPHROLOGY</td>\n",
       "    </tr>\n",
       "    <tr>\n",
       "      <th>4</th>\n",
       "      <td>54</td>\n",
       "      <td>1</td>\n",
       "      <td>Srikakulam</td>\n",
       "      <td>NEPHROLOGY</td>\n",
       "    </tr>\n",
       "    <tr>\n",
       "      <th>...</th>\n",
       "      <td>...</td>\n",
       "      <td>...</td>\n",
       "      <td>...</td>\n",
       "      <td>...</td>\n",
       "    </tr>\n",
       "    <tr>\n",
       "      <th>479683</th>\n",
       "      <td>22</td>\n",
       "      <td>0</td>\n",
       "      <td>Nellore</td>\n",
       "      <td>GYNAECOLOGY AND OBSTETRICS  SURGERY</td>\n",
       "    </tr>\n",
       "    <tr>\n",
       "      <th>479684</th>\n",
       "      <td>60</td>\n",
       "      <td>1</td>\n",
       "      <td>Prakasam</td>\n",
       "      <td>MEDICAL ONCOLOGY</td>\n",
       "    </tr>\n",
       "    <tr>\n",
       "      <th>479685</th>\n",
       "      <td>38</td>\n",
       "      <td>1</td>\n",
       "      <td>Nellore</td>\n",
       "      <td>POLY TRAUMA</td>\n",
       "    </tr>\n",
       "    <tr>\n",
       "      <th>479686</th>\n",
       "      <td>59</td>\n",
       "      <td>1</td>\n",
       "      <td>West Godavari</td>\n",
       "      <td>OPHTHALMOLOGY  SURGERY</td>\n",
       "    </tr>\n",
       "    <tr>\n",
       "      <th>479687</th>\n",
       "      <td>63</td>\n",
       "      <td>1</td>\n",
       "      <td>Krishna</td>\n",
       "      <td>OPHTHALMOLOGY  SURGERY</td>\n",
       "    </tr>\n",
       "  </tbody>\n",
       "</table>\n",
       "<p>479688 rows × 4 columns</p>\n",
       "</div>"
      ],
      "text/plain": [
       "        AGE  SEX  DISTRICT_NAME                        CATEGORY_NAME\n",
       "0        56    0     Srikakulam                           NEPHROLOGY\n",
       "1        37    1     Srikakulam                           NEPHROLOGY\n",
       "2        50    1     Srikakulam                           NEPHROLOGY\n",
       "3        45    1     Srikakulam                           NEPHROLOGY\n",
       "4        54    1     Srikakulam                           NEPHROLOGY\n",
       "...     ...  ...            ...                                  ...\n",
       "479683   22    0        Nellore  GYNAECOLOGY AND OBSTETRICS  SURGERY\n",
       "479684   60    1       Prakasam                     MEDICAL ONCOLOGY\n",
       "479685   38    1        Nellore                          POLY TRAUMA\n",
       "479686   59    1  West Godavari               OPHTHALMOLOGY  SURGERY\n",
       "479687   63    1        Krishna               OPHTHALMOLOGY  SURGERY\n",
       "\n",
       "[479688 rows x 4 columns]"
      ]
     },
     "execution_count": 7,
     "metadata": {},
     "output_type": "execute_result"
    }
   ],
   "source": [
    "df2"
   ]
  },
  {
   "cell_type": "code",
   "execution_count": 8,
   "metadata": {
    "colab": {
     "base_uri": "https://localhost:8080/"
    },
    "executionInfo": {
     "elapsed": 27,
     "status": "ok",
     "timestamp": 1650447976049,
     "user": {
      "displayName": "Dewansh Kumar",
      "userId": "00655038673658959143"
     },
     "user_tz": -330
    },
    "id": "jVvnowOr3Msr",
    "outputId": "562bfb0c-07ca-4235-8484-5dbb7560b25d"
   },
   "outputs": [
    {
     "data": {
      "text/plain": [
       "0     55398\n",
       "1     50416\n",
       "2     41964\n",
       "3     40995\n",
       "4     39836\n",
       "5     36790\n",
       "6     36481\n",
       "7     34819\n",
       "8     32013\n",
       "9     29244\n",
       "10    28854\n",
       "11    27079\n",
       "12    25799\n",
       "Name: DISTRICT_NAME, dtype: int64"
      ]
     },
     "execution_count": 8,
     "metadata": {},
     "output_type": "execute_result"
    }
   ],
   "source": [
    "df2['DISTRICT_NAME'] = df2['DISTRICT_NAME'].map({'East Godavari':0,'Guntur':1, 'Krishna':2, 'West Godavari':3, 'Nellore': 4, 'Chittoor': 5,'Vishakhapatnam': 6, 'Prakasam': 7, 'Kurnool': 8, 'YSR Kadapa': 9, 'Anantapur': 10, 'Srikakulam': 11, 'Vizianagaram': 12})\n",
    "df2['DISTRICT_NAME'].value_counts()"
   ]
  },
  {
   "cell_type": "code",
   "execution_count": 9,
   "metadata": {
    "colab": {
     "base_uri": "https://localhost:8080/",
     "height": 423
    },
    "executionInfo": {
     "elapsed": 24,
     "status": "ok",
     "timestamp": 1650447976051,
     "user": {
      "displayName": "Dewansh Kumar",
      "userId": "00655038673658959143"
     },
     "user_tz": -330
    },
    "id": "wMSlaFuK3ROA",
    "outputId": "c134d766-091a-4236-bc6a-825cf413817a"
   },
   "outputs": [
    {
     "data": {
      "text/html": [
       "<div>\n",
       "<style scoped>\n",
       "    .dataframe tbody tr th:only-of-type {\n",
       "        vertical-align: middle;\n",
       "    }\n",
       "\n",
       "    .dataframe tbody tr th {\n",
       "        vertical-align: top;\n",
       "    }\n",
       "\n",
       "    .dataframe thead th {\n",
       "        text-align: right;\n",
       "    }\n",
       "</style>\n",
       "<table border=\"1\" class=\"dataframe\">\n",
       "  <thead>\n",
       "    <tr style=\"text-align: right;\">\n",
       "      <th></th>\n",
       "      <th>AGE</th>\n",
       "      <th>SEX</th>\n",
       "      <th>DISTRICT_NAME</th>\n",
       "      <th>CATEGORY_NAME</th>\n",
       "    </tr>\n",
       "  </thead>\n",
       "  <tbody>\n",
       "    <tr>\n",
       "      <th>0</th>\n",
       "      <td>56</td>\n",
       "      <td>0</td>\n",
       "      <td>11</td>\n",
       "      <td>NEPHROLOGY</td>\n",
       "    </tr>\n",
       "    <tr>\n",
       "      <th>1</th>\n",
       "      <td>37</td>\n",
       "      <td>1</td>\n",
       "      <td>11</td>\n",
       "      <td>NEPHROLOGY</td>\n",
       "    </tr>\n",
       "    <tr>\n",
       "      <th>2</th>\n",
       "      <td>50</td>\n",
       "      <td>1</td>\n",
       "      <td>11</td>\n",
       "      <td>NEPHROLOGY</td>\n",
       "    </tr>\n",
       "    <tr>\n",
       "      <th>3</th>\n",
       "      <td>45</td>\n",
       "      <td>1</td>\n",
       "      <td>11</td>\n",
       "      <td>NEPHROLOGY</td>\n",
       "    </tr>\n",
       "    <tr>\n",
       "      <th>4</th>\n",
       "      <td>54</td>\n",
       "      <td>1</td>\n",
       "      <td>11</td>\n",
       "      <td>NEPHROLOGY</td>\n",
       "    </tr>\n",
       "    <tr>\n",
       "      <th>...</th>\n",
       "      <td>...</td>\n",
       "      <td>...</td>\n",
       "      <td>...</td>\n",
       "      <td>...</td>\n",
       "    </tr>\n",
       "    <tr>\n",
       "      <th>479683</th>\n",
       "      <td>22</td>\n",
       "      <td>0</td>\n",
       "      <td>4</td>\n",
       "      <td>GYNAECOLOGY AND OBSTETRICS  SURGERY</td>\n",
       "    </tr>\n",
       "    <tr>\n",
       "      <th>479684</th>\n",
       "      <td>60</td>\n",
       "      <td>1</td>\n",
       "      <td>7</td>\n",
       "      <td>MEDICAL ONCOLOGY</td>\n",
       "    </tr>\n",
       "    <tr>\n",
       "      <th>479685</th>\n",
       "      <td>38</td>\n",
       "      <td>1</td>\n",
       "      <td>4</td>\n",
       "      <td>POLY TRAUMA</td>\n",
       "    </tr>\n",
       "    <tr>\n",
       "      <th>479686</th>\n",
       "      <td>59</td>\n",
       "      <td>1</td>\n",
       "      <td>3</td>\n",
       "      <td>OPHTHALMOLOGY  SURGERY</td>\n",
       "    </tr>\n",
       "    <tr>\n",
       "      <th>479687</th>\n",
       "      <td>63</td>\n",
       "      <td>1</td>\n",
       "      <td>2</td>\n",
       "      <td>OPHTHALMOLOGY  SURGERY</td>\n",
       "    </tr>\n",
       "  </tbody>\n",
       "</table>\n",
       "<p>479688 rows × 4 columns</p>\n",
       "</div>"
      ],
      "text/plain": [
       "        AGE  SEX  DISTRICT_NAME                        CATEGORY_NAME\n",
       "0        56    0             11                           NEPHROLOGY\n",
       "1        37    1             11                           NEPHROLOGY\n",
       "2        50    1             11                           NEPHROLOGY\n",
       "3        45    1             11                           NEPHROLOGY\n",
       "4        54    1             11                           NEPHROLOGY\n",
       "...     ...  ...            ...                                  ...\n",
       "479683   22    0              4  GYNAECOLOGY AND OBSTETRICS  SURGERY\n",
       "479684   60    1              7                     MEDICAL ONCOLOGY\n",
       "479685   38    1              4                          POLY TRAUMA\n",
       "479686   59    1              3               OPHTHALMOLOGY  SURGERY\n",
       "479687   63    1              2               OPHTHALMOLOGY  SURGERY\n",
       "\n",
       "[479688 rows x 4 columns]"
      ]
     },
     "execution_count": 9,
     "metadata": {},
     "output_type": "execute_result"
    }
   ],
   "source": [
    "df2"
   ]
  },
  {
   "cell_type": "code",
   "execution_count": 10,
   "metadata": {
    "colab": {
     "base_uri": "https://localhost:8080/",
     "height": 423
    },
    "executionInfo": {
     "elapsed": 816,
     "status": "ok",
     "timestamp": 1650447976845,
     "user": {
      "displayName": "Dewansh Kumar",
      "userId": "00655038673658959143"
     },
     "user_tz": -330
    },
    "id": "yRDZJP183Uvi",
    "outputId": "a80d1426-d4f3-4428-a34f-3ff77248b409"
   },
   "outputs": [
    {
     "data": {
      "text/html": [
       "<div>\n",
       "<style scoped>\n",
       "    .dataframe tbody tr th:only-of-type {\n",
       "        vertical-align: middle;\n",
       "    }\n",
       "\n",
       "    .dataframe tbody tr th {\n",
       "        vertical-align: top;\n",
       "    }\n",
       "\n",
       "    .dataframe thead th {\n",
       "        text-align: right;\n",
       "    }\n",
       "</style>\n",
       "<table border=\"1\" class=\"dataframe\">\n",
       "  <thead>\n",
       "    <tr style=\"text-align: right;\">\n",
       "      <th></th>\n",
       "      <th>AGE</th>\n",
       "      <th>SEX</th>\n",
       "      <th>DISTRICT_NAME</th>\n",
       "      <th>CATEGORY_NAME</th>\n",
       "    </tr>\n",
       "  </thead>\n",
       "  <tbody>\n",
       "    <tr>\n",
       "      <th>0</th>\n",
       "      <td>56</td>\n",
       "      <td>0</td>\n",
       "      <td>11</td>\n",
       "      <td>1</td>\n",
       "    </tr>\n",
       "    <tr>\n",
       "      <th>1</th>\n",
       "      <td>37</td>\n",
       "      <td>1</td>\n",
       "      <td>11</td>\n",
       "      <td>1</td>\n",
       "    </tr>\n",
       "    <tr>\n",
       "      <th>2</th>\n",
       "      <td>50</td>\n",
       "      <td>1</td>\n",
       "      <td>11</td>\n",
       "      <td>1</td>\n",
       "    </tr>\n",
       "    <tr>\n",
       "      <th>3</th>\n",
       "      <td>45</td>\n",
       "      <td>1</td>\n",
       "      <td>11</td>\n",
       "      <td>1</td>\n",
       "    </tr>\n",
       "    <tr>\n",
       "      <th>4</th>\n",
       "      <td>54</td>\n",
       "      <td>1</td>\n",
       "      <td>11</td>\n",
       "      <td>1</td>\n",
       "    </tr>\n",
       "    <tr>\n",
       "      <th>...</th>\n",
       "      <td>...</td>\n",
       "      <td>...</td>\n",
       "      <td>...</td>\n",
       "      <td>...</td>\n",
       "    </tr>\n",
       "    <tr>\n",
       "      <th>479683</th>\n",
       "      <td>22</td>\n",
       "      <td>0</td>\n",
       "      <td>4</td>\n",
       "      <td>0</td>\n",
       "    </tr>\n",
       "    <tr>\n",
       "      <th>479684</th>\n",
       "      <td>60</td>\n",
       "      <td>1</td>\n",
       "      <td>7</td>\n",
       "      <td>0</td>\n",
       "    </tr>\n",
       "    <tr>\n",
       "      <th>479685</th>\n",
       "      <td>38</td>\n",
       "      <td>1</td>\n",
       "      <td>4</td>\n",
       "      <td>0</td>\n",
       "    </tr>\n",
       "    <tr>\n",
       "      <th>479686</th>\n",
       "      <td>59</td>\n",
       "      <td>1</td>\n",
       "      <td>3</td>\n",
       "      <td>0</td>\n",
       "    </tr>\n",
       "    <tr>\n",
       "      <th>479687</th>\n",
       "      <td>63</td>\n",
       "      <td>1</td>\n",
       "      <td>2</td>\n",
       "      <td>0</td>\n",
       "    </tr>\n",
       "  </tbody>\n",
       "</table>\n",
       "<p>479688 rows × 4 columns</p>\n",
       "</div>"
      ],
      "text/plain": [
       "        AGE  SEX  DISTRICT_NAME  CATEGORY_NAME\n",
       "0        56    0             11              1\n",
       "1        37    1             11              1\n",
       "2        50    1             11              1\n",
       "3        45    1             11              1\n",
       "4        54    1             11              1\n",
       "...     ...  ...            ...            ...\n",
       "479683   22    0              4              0\n",
       "479684   60    1              7              0\n",
       "479685   38    1              4              0\n",
       "479686   59    1              3              0\n",
       "479687   63    1              2              0\n",
       "\n",
       "[479688 rows x 4 columns]"
      ]
     },
     "execution_count": 10,
     "metadata": {},
     "output_type": "execute_result"
    }
   ],
   "source": [
    "df2['CATEGORY_NAME'] = [1 if x == 'NEPHROLOGY' else 0 for x in df2['CATEGORY_NAME']]\n",
    "df2"
   ]
  },
  {
   "cell_type": "code",
   "execution_count": 11,
   "metadata": {
    "colab": {
     "base_uri": "https://localhost:8080/"
    },
    "executionInfo": {
     "elapsed": 61,
     "status": "ok",
     "timestamp": 1650447976847,
     "user": {
      "displayName": "Dewansh Kumar",
      "userId": "00655038673658959143"
     },
     "user_tz": -330
    },
    "id": "RsjcK9dHUCSG",
    "outputId": "224bb875-b3a1-4ba4-a960-abd17bafe17d"
   },
   "outputs": [
    {
     "name": "stdout",
     "output_type": "stream",
     "text": [
      "74947\n"
     ]
    }
   ],
   "source": [
    "sum=0\n",
    "for i in df2['CATEGORY_NAME']:\n",
    "  if i!=0:\n",
    "    sum+=1\n",
    "print(sum)"
   ]
  },
  {
   "cell_type": "code",
   "execution_count": 12,
   "metadata": {
    "executionInfo": {
     "elapsed": 51,
     "status": "ok",
     "timestamp": 1650447976848,
     "user": {
      "displayName": "Dewansh Kumar",
      "userId": "00655038673658959143"
     },
     "user_tz": -330
    },
    "id": "mNxjkBseV6nC"
   },
   "outputs": [],
   "source": [
    "df3 = pd.DataFrame()"
   ]
  },
  {
   "cell_type": "code",
   "execution_count": 13,
   "metadata": {
    "executionInfo": {
     "elapsed": 51,
     "status": "ok",
     "timestamp": 1650447976849,
     "user": {
      "displayName": "Dewansh Kumar",
      "userId": "00655038673658959143"
     },
     "user_tz": -330
    },
    "id": "uCX2t5NsWCXj"
   },
   "outputs": [],
   "source": [
    "df3 = df2[df2.CATEGORY_NAME != 0]"
   ]
  },
  {
   "cell_type": "code",
   "execution_count": 14,
   "metadata": {
    "colab": {
     "base_uri": "https://localhost:8080/"
    },
    "executionInfo": {
     "elapsed": 51,
     "status": "ok",
     "timestamp": 1650447976850,
     "user": {
      "displayName": "Dewansh Kumar",
      "userId": "00655038673658959143"
     },
     "user_tz": -330
    },
    "id": "Kh5mNJ6lWJuN",
    "outputId": "07c7040c-474d-42ee-de16-176b08bfc148"
   },
   "outputs": [
    {
     "name": "stdout",
     "output_type": "stream",
     "text": [
      "        AGE  SEX  DISTRICT_NAME  CATEGORY_NAME\n",
      "0        56    0             11              1\n",
      "1        37    1             11              1\n",
      "2        50    1             11              1\n",
      "3        45    1             11              1\n",
      "4        54    1             11              1\n",
      "...     ...  ...            ...            ...\n",
      "479395   80    1              3              1\n",
      "479402   45    1             12              1\n",
      "479410   59    0              4              1\n",
      "479577   51    0              4              1\n",
      "479634   54    1              4              1\n",
      "\n",
      "[74947 rows x 4 columns]\n"
     ]
    }
   ],
   "source": [
    "print(df3)"
   ]
  },
  {
   "cell_type": "code",
   "execution_count": null,
   "metadata": {
    "executionInfo": {
     "elapsed": 46,
     "status": "ok",
     "timestamp": 1650447976852,
     "user": {
      "displayName": "Dewansh Kumar",
      "userId": "00655038673658959143"
     },
     "user_tz": -330
    },
    "id": "j7ki1eqtWGQc"
   },
   "outputs": [],
   "source": []
  },
  {
   "cell_type": "code",
   "execution_count": 15,
   "metadata": {
    "executionInfo": {
     "elapsed": 46,
     "status": "ok",
     "timestamp": 1650447976853,
     "user": {
      "displayName": "Dewansh Kumar",
      "userId": "00655038673658959143"
     },
     "user_tz": -330
    },
    "id": "1KdyyKXfRXRC"
   },
   "outputs": [],
   "source": [
    "df = pd.DataFrame()"
   ]
  },
  {
   "cell_type": "code",
   "execution_count": 16,
   "metadata": {
    "executionInfo": {
     "elapsed": 47,
     "status": "ok",
     "timestamp": 1650447976855,
     "user": {
      "displayName": "Dewansh Kumar",
      "userId": "00655038673658959143"
     },
     "user_tz": -330
    },
    "id": "Jca9P1nmSWs-"
   },
   "outputs": [],
   "source": [
    "df = df2[df2.CATEGORY_NAME == 0]"
   ]
  },
  {
   "cell_type": "code",
   "execution_count": 17,
   "metadata": {
    "colab": {
     "base_uri": "https://localhost:8080/"
    },
    "executionInfo": {
     "elapsed": 46,
     "status": "ok",
     "timestamp": 1650447976855,
     "user": {
      "displayName": "Dewansh Kumar",
      "userId": "00655038673658959143"
     },
     "user_tz": -330
    },
    "id": "HPhLp2kWSjam",
    "outputId": "af730365-c0eb-4867-baa5-677ca5a1fdce"
   },
   "outputs": [
    {
     "name": "stdout",
     "output_type": "stream",
     "text": [
      "        AGE  SEX  DISTRICT_NAME  CATEGORY_NAME\n",
      "8        56    1              1              0\n",
      "9        49    1              1              0\n",
      "11       56    1              1              0\n",
      "12       65    0              1              0\n",
      "13       75    1              1              0\n",
      "...     ...  ...            ...            ...\n",
      "479683   22    0              4              0\n",
      "479684   60    1              7              0\n",
      "479685   38    1              4              0\n",
      "479686   59    1              3              0\n",
      "479687   63    1              2              0\n",
      "\n",
      "[404741 rows x 4 columns]\n"
     ]
    }
   ],
   "source": [
    "print(df)"
   ]
  },
  {
   "cell_type": "code",
   "execution_count": 18,
   "metadata": {
    "executionInfo": {
     "elapsed": 43,
     "status": "ok",
     "timestamp": 1650447976857,
     "user": {
      "displayName": "Dewansh Kumar",
      "userId": "00655038673658959143"
     },
     "user_tz": -330
    },
    "id": "uVjPh3IuUtGj"
   },
   "outputs": [],
   "source": [
    "df1 = pd.DataFrame()"
   ]
  },
  {
   "cell_type": "code",
   "execution_count": 19,
   "metadata": {
    "executionInfo": {
     "elapsed": 44,
     "status": "ok",
     "timestamp": 1650447976858,
     "user": {
      "displayName": "Dewansh Kumar",
      "userId": "00655038673658959143"
     },
     "user_tz": -330
    },
    "id": "SoIleYaSTLD5"
   },
   "outputs": [],
   "source": [
    "df1=df.sample(n = 74947)"
   ]
  },
  {
   "cell_type": "code",
   "execution_count": 20,
   "metadata": {
    "colab": {
     "base_uri": "https://localhost:8080/",
     "height": 423
    },
    "executionInfo": {
     "elapsed": 44,
     "status": "ok",
     "timestamp": 1650447976860,
     "user": {
      "displayName": "Dewansh Kumar",
      "userId": "00655038673658959143"
     },
     "user_tz": -330
    },
    "id": "5-4o5DvTVBxA",
    "outputId": "03470c98-5ad8-42ca-a856-8f26998b4d6e"
   },
   "outputs": [
    {
     "data": {
      "text/html": [
       "<div>\n",
       "<style scoped>\n",
       "    .dataframe tbody tr th:only-of-type {\n",
       "        vertical-align: middle;\n",
       "    }\n",
       "\n",
       "    .dataframe tbody tr th {\n",
       "        vertical-align: top;\n",
       "    }\n",
       "\n",
       "    .dataframe thead th {\n",
       "        text-align: right;\n",
       "    }\n",
       "</style>\n",
       "<table border=\"1\" class=\"dataframe\">\n",
       "  <thead>\n",
       "    <tr style=\"text-align: right;\">\n",
       "      <th></th>\n",
       "      <th>AGE</th>\n",
       "      <th>SEX</th>\n",
       "      <th>DISTRICT_NAME</th>\n",
       "      <th>CATEGORY_NAME</th>\n",
       "    </tr>\n",
       "  </thead>\n",
       "  <tbody>\n",
       "    <tr>\n",
       "      <th>394631</th>\n",
       "      <td>54</td>\n",
       "      <td>0</td>\n",
       "      <td>1</td>\n",
       "      <td>0</td>\n",
       "    </tr>\n",
       "    <tr>\n",
       "      <th>441020</th>\n",
       "      <td>54</td>\n",
       "      <td>1</td>\n",
       "      <td>0</td>\n",
       "      <td>0</td>\n",
       "    </tr>\n",
       "    <tr>\n",
       "      <th>150275</th>\n",
       "      <td>52</td>\n",
       "      <td>1</td>\n",
       "      <td>0</td>\n",
       "      <td>0</td>\n",
       "    </tr>\n",
       "    <tr>\n",
       "      <th>13253</th>\n",
       "      <td>4</td>\n",
       "      <td>1</td>\n",
       "      <td>6</td>\n",
       "      <td>0</td>\n",
       "    </tr>\n",
       "    <tr>\n",
       "      <th>175222</th>\n",
       "      <td>50</td>\n",
       "      <td>0</td>\n",
       "      <td>10</td>\n",
       "      <td>0</td>\n",
       "    </tr>\n",
       "    <tr>\n",
       "      <th>...</th>\n",
       "      <td>...</td>\n",
       "      <td>...</td>\n",
       "      <td>...</td>\n",
       "      <td>...</td>\n",
       "    </tr>\n",
       "    <tr>\n",
       "      <th>94046</th>\n",
       "      <td>50</td>\n",
       "      <td>1</td>\n",
       "      <td>6</td>\n",
       "      <td>0</td>\n",
       "    </tr>\n",
       "    <tr>\n",
       "      <th>455483</th>\n",
       "      <td>31</td>\n",
       "      <td>1</td>\n",
       "      <td>10</td>\n",
       "      <td>0</td>\n",
       "    </tr>\n",
       "    <tr>\n",
       "      <th>198349</th>\n",
       "      <td>39</td>\n",
       "      <td>1</td>\n",
       "      <td>0</td>\n",
       "      <td>0</td>\n",
       "    </tr>\n",
       "    <tr>\n",
       "      <th>199130</th>\n",
       "      <td>61</td>\n",
       "      <td>1</td>\n",
       "      <td>4</td>\n",
       "      <td>0</td>\n",
       "    </tr>\n",
       "    <tr>\n",
       "      <th>73765</th>\n",
       "      <td>42</td>\n",
       "      <td>1</td>\n",
       "      <td>2</td>\n",
       "      <td>0</td>\n",
       "    </tr>\n",
       "  </tbody>\n",
       "</table>\n",
       "<p>74947 rows × 4 columns</p>\n",
       "</div>"
      ],
      "text/plain": [
       "        AGE  SEX  DISTRICT_NAME  CATEGORY_NAME\n",
       "394631   54    0              1              0\n",
       "441020   54    1              0              0\n",
       "150275   52    1              0              0\n",
       "13253     4    1              6              0\n",
       "175222   50    0             10              0\n",
       "...     ...  ...            ...            ...\n",
       "94046    50    1              6              0\n",
       "455483   31    1             10              0\n",
       "198349   39    1              0              0\n",
       "199130   61    1              4              0\n",
       "73765    42    1              2              0\n",
       "\n",
       "[74947 rows x 4 columns]"
      ]
     },
     "execution_count": 20,
     "metadata": {},
     "output_type": "execute_result"
    }
   ],
   "source": [
    "df1"
   ]
  },
  {
   "cell_type": "code",
   "execution_count": null,
   "metadata": {
    "executionInfo": {
     "elapsed": 41,
     "status": "ok",
     "timestamp": 1650447976860,
     "user": {
      "displayName": "Dewansh Kumar",
      "userId": "00655038673658959143"
     },
     "user_tz": -330
    },
    "id": "9RcwccVDXYk-"
   },
   "outputs": [],
   "source": []
  },
  {
   "cell_type": "code",
   "execution_count": 21,
   "metadata": {
    "colab": {
     "base_uri": "https://localhost:8080/",
     "height": 423
    },
    "executionInfo": {
     "elapsed": 42,
     "status": "ok",
     "timestamp": 1650447976862,
     "user": {
      "displayName": "Dewansh Kumar",
      "userId": "00655038673658959143"
     },
     "user_tz": -330
    },
    "id": "h0b3QR0uXFDC",
    "outputId": "9e773f80-4d14-4ea2-c932-4f8b4d0f3cec"
   },
   "outputs": [
    {
     "data": {
      "text/html": [
       "<div>\n",
       "<style scoped>\n",
       "    .dataframe tbody tr th:only-of-type {\n",
       "        vertical-align: middle;\n",
       "    }\n",
       "\n",
       "    .dataframe tbody tr th {\n",
       "        vertical-align: top;\n",
       "    }\n",
       "\n",
       "    .dataframe thead th {\n",
       "        text-align: right;\n",
       "    }\n",
       "</style>\n",
       "<table border=\"1\" class=\"dataframe\">\n",
       "  <thead>\n",
       "    <tr style=\"text-align: right;\">\n",
       "      <th></th>\n",
       "      <th>AGE</th>\n",
       "      <th>SEX</th>\n",
       "      <th>DISTRICT_NAME</th>\n",
       "      <th>CATEGORY_NAME</th>\n",
       "    </tr>\n",
       "  </thead>\n",
       "  <tbody>\n",
       "    <tr>\n",
       "      <th>365232</th>\n",
       "      <td>31</td>\n",
       "      <td>1</td>\n",
       "      <td>1</td>\n",
       "      <td>1</td>\n",
       "    </tr>\n",
       "    <tr>\n",
       "      <th>9545</th>\n",
       "      <td>46</td>\n",
       "      <td>1</td>\n",
       "      <td>0</td>\n",
       "      <td>0</td>\n",
       "    </tr>\n",
       "    <tr>\n",
       "      <th>396134</th>\n",
       "      <td>64</td>\n",
       "      <td>0</td>\n",
       "      <td>9</td>\n",
       "      <td>0</td>\n",
       "    </tr>\n",
       "    <tr>\n",
       "      <th>308704</th>\n",
       "      <td>35</td>\n",
       "      <td>0</td>\n",
       "      <td>1</td>\n",
       "      <td>0</td>\n",
       "    </tr>\n",
       "    <tr>\n",
       "      <th>394677</th>\n",
       "      <td>28</td>\n",
       "      <td>1</td>\n",
       "      <td>4</td>\n",
       "      <td>0</td>\n",
       "    </tr>\n",
       "    <tr>\n",
       "      <th>...</th>\n",
       "      <td>...</td>\n",
       "      <td>...</td>\n",
       "      <td>...</td>\n",
       "      <td>...</td>\n",
       "    </tr>\n",
       "    <tr>\n",
       "      <th>309988</th>\n",
       "      <td>50</td>\n",
       "      <td>1</td>\n",
       "      <td>9</td>\n",
       "      <td>1</td>\n",
       "    </tr>\n",
       "    <tr>\n",
       "      <th>25597</th>\n",
       "      <td>4</td>\n",
       "      <td>1</td>\n",
       "      <td>8</td>\n",
       "      <td>0</td>\n",
       "    </tr>\n",
       "    <tr>\n",
       "      <th>10733</th>\n",
       "      <td>42</td>\n",
       "      <td>1</td>\n",
       "      <td>4</td>\n",
       "      <td>1</td>\n",
       "    </tr>\n",
       "    <tr>\n",
       "      <th>124934</th>\n",
       "      <td>26</td>\n",
       "      <td>0</td>\n",
       "      <td>6</td>\n",
       "      <td>0</td>\n",
       "    </tr>\n",
       "    <tr>\n",
       "      <th>399625</th>\n",
       "      <td>41</td>\n",
       "      <td>0</td>\n",
       "      <td>8</td>\n",
       "      <td>1</td>\n",
       "    </tr>\n",
       "  </tbody>\n",
       "</table>\n",
       "<p>149894 rows × 4 columns</p>\n",
       "</div>"
      ],
      "text/plain": [
       "        AGE  SEX  DISTRICT_NAME  CATEGORY_NAME\n",
       "365232   31    1              1              1\n",
       "9545     46    1              0              0\n",
       "396134   64    0              9              0\n",
       "308704   35    0              1              0\n",
       "394677   28    1              4              0\n",
       "...     ...  ...            ...            ...\n",
       "309988   50    1              9              1\n",
       "25597     4    1              8              0\n",
       "10733    42    1              4              1\n",
       "124934   26    0              6              0\n",
       "399625   41    0              8              1\n",
       "\n",
       "[149894 rows x 4 columns]"
      ]
     },
     "execution_count": 21,
     "metadata": {},
     "output_type": "execute_result"
    }
   ],
   "source": [
    "new_df=pd.concat([df1,df3])\n",
    "new_df=new_df.sample(n = 149894)\n",
    "new_df"
   ]
  },
  {
   "cell_type": "code",
   "execution_count": null,
   "metadata": {
    "executionInfo": {
     "elapsed": 41,
     "status": "ok",
     "timestamp": 1650447976863,
     "user": {
      "displayName": "Dewansh Kumar",
      "userId": "00655038673658959143"
     },
     "user_tz": -330
    },
    "id": "wnijtXyaXzHo"
   },
   "outputs": [],
   "source": []
  },
  {
   "cell_type": "code",
   "execution_count": 22,
   "metadata": {
    "executionInfo": {
     "elapsed": 41,
     "status": "ok",
     "timestamp": 1650447976864,
     "user": {
      "displayName": "Dewansh Kumar",
      "userId": "00655038673658959143"
     },
     "user_tz": -330
    },
    "id": "-gQax20Z7mwX"
   },
   "outputs": [],
   "source": [
    "import warnings # ignore warnings\n",
    "warnings.filterwarnings('ignore')\n"
   ]
  },
  {
   "cell_type": "code",
   "execution_count": 23,
   "metadata": {
    "executionInfo": {
     "elapsed": 41,
     "status": "ok",
     "timestamp": 1650447976865,
     "user": {
      "displayName": "Dewansh Kumar",
      "userId": "00655038673658959143"
     },
     "user_tz": -330
    },
    "id": "p7anyBVx9bCd"
   },
   "outputs": [],
   "source": [
    "disease = len(new_df[new_df['CATEGORY_NAME'] == 1])\n",
    "no_disease = len(new_df[new_df['CATEGORY_NAME']== 0])"
   ]
  },
  {
   "cell_type": "code",
   "execution_count": 24,
   "metadata": {
    "colab": {
     "base_uri": "https://localhost:8080/",
     "height": 266
    },
    "executionInfo": {
     "elapsed": 29,
     "status": "ok",
     "timestamp": 1650447977642,
     "user": {
      "displayName": "Dewansh Kumar",
      "userId": "00655038673658959143"
     },
     "user_tz": -330
    },
    "id": "eFC40B9_90bH",
    "outputId": "0a97a73d-b28b-407a-d2f1-1f8c16e8b8f7"
   },
   "outputs": [
    {
     "data": {
      "image/png": "[encoded data removed]",
      "text/plain": [
       "<Figure size 432x288 with 1 Axes>"
      ]
     },
     "metadata": {},
     "output_type": "display_data"
    }
   ],
   "source": [
    "import matplotlib.pyplot as plt\n",
    "y = ('Nephrological Disease', 'No Nephrological Disease')\n",
    "y_pos = np.arange(len(y))\n",
    "x = (disease, no_disease)\n",
    "labels = 'Nephrological Disease', 'No Nephrological Disease'\n",
    "sizes = [disease, no_disease]\n",
    "fig1, ax1 = plt.subplots()\n",
    "ax1.pie(sizes,  labels=labels, autopct='%1.1f%%', startangle=90) \n",
    "ax1.axis('equal')  # Equal aspect ratio ensures that pie is drawn as a circle.\n",
    "plt.title('Percentage of target', size=16)\n",
    "plt.show() # Pie chart, where the slices will be ordered and plotted counter-clockwise:"
   ]
  },
  {
   "cell_type": "code",
   "execution_count": 25,
   "metadata": {
    "colab": {
     "base_uri": "https://localhost:8080/"
    },
    "executionInfo": {
     "elapsed": 25,
     "status": "ok",
     "timestamp": 1650447977644,
     "user": {
      "displayName": "Dewansh Kumar",
      "userId": "00655038673658959143"
     },
     "user_tz": -330
    },
    "id": "mDyo3Xiz_OdV",
    "outputId": "33ed0ee7-bb12-45bb-9d93-c03f9ad8252b"
   },
   "outputs": [
    {
     "data": {
      "text/plain": [
       "AGE              0\n",
       "SEX              0\n",
       "DISTRICT_NAME    0\n",
       "CATEGORY_NAME    0\n",
       "dtype: int64"
      ]
     },
     "execution_count": 25,
     "metadata": {},
     "output_type": "execute_result"
    }
   ],
   "source": [
    "new_df.isna().sum() # missing values"
   ]
  },
  {
   "cell_type": "code",
   "execution_count": 26,
   "metadata": {
    "executionInfo": {
     "elapsed": 21,
     "status": "ok",
     "timestamp": 1650447977645,
     "user": {
      "displayName": "Dewansh Kumar",
      "userId": "00655038673658959143"
     },
     "user_tz": -330
    },
    "id": "TurBsp6S_UkY"
   },
   "outputs": [],
   "source": [
    "new_df['SEX'].fillna(new_df['SEX'].mean(),inplace=True)"
   ]
  },
  {
   "cell_type": "code",
   "execution_count": 27,
   "metadata": {
    "colab": {
     "base_uri": "https://localhost:8080/"
    },
    "executionInfo": {
     "elapsed": 21,
     "status": "ok",
     "timestamp": 1650447977646,
     "user": {
      "displayName": "Dewansh Kumar",
      "userId": "00655038673658959143"
     },
     "user_tz": -330
    },
    "id": "MLOcpg02ANrv",
    "outputId": "a1d9bf0e-e8e8-4938-fe9b-8088653881bd"
   },
   "outputs": [
    {
     "data": {
      "text/plain": [
       "AGE              0\n",
       "SEX              0\n",
       "DISTRICT_NAME    0\n",
       "CATEGORY_NAME    0\n",
       "dtype: int64"
      ]
     },
     "execution_count": 27,
     "metadata": {},
     "output_type": "execute_result"
    }
   ],
   "source": [
    "new_df.isna().sum() # missing values"
   ]
  },
  {
   "cell_type": "code",
   "execution_count": 28,
   "metadata": {
    "executionInfo": {
     "elapsed": 19,
     "status": "ok",
     "timestamp": 1650447977647,
     "user": {
      "displayName": "Dewansh Kumar",
      "userId": "00655038673658959143"
     },
     "user_tz": -330
    },
    "id": "7GFRVh4u9V-M"
   },
   "outputs": [],
   "source": [
    "new_df.rename(columns = {'CATEGORY_NAME':'TARGET'}, inplace = True)"
   ]
  },
  {
   "cell_type": "code",
   "execution_count": 29,
   "metadata": {
    "colab": {
     "base_uri": "https://localhost:8080/",
     "height": 423
    },
    "executionInfo": {
     "elapsed": 20,
     "status": "ok",
     "timestamp": 1650447977649,
     "user": {
      "displayName": "Dewansh Kumar",
      "userId": "00655038673658959143"
     },
     "user_tz": -330
    },
    "id": "S2UQY3bVAXkL",
    "outputId": "beb2f434-d90d-4b36-ad12-7c7d1dc3d824"
   },
   "outputs": [
    {
     "data": {
      "text/html": [
       "<div>\n",
       "<style scoped>\n",
       "    .dataframe tbody tr th:only-of-type {\n",
       "        vertical-align: middle;\n",
       "    }\n",
       "\n",
       "    .dataframe tbody tr th {\n",
       "        vertical-align: top;\n",
       "    }\n",
       "\n",
       "    .dataframe thead th {\n",
       "        text-align: right;\n",
       "    }\n",
       "</style>\n",
       "<table border=\"1\" class=\"dataframe\">\n",
       "  <thead>\n",
       "    <tr style=\"text-align: right;\">\n",
       "      <th></th>\n",
       "      <th>AGE</th>\n",
       "      <th>SEX</th>\n",
       "      <th>DISTRICT_NAME</th>\n",
       "      <th>TARGET</th>\n",
       "    </tr>\n",
       "  </thead>\n",
       "  <tbody>\n",
       "    <tr>\n",
       "      <th>365232</th>\n",
       "      <td>31</td>\n",
       "      <td>1</td>\n",
       "      <td>1</td>\n",
       "      <td>1</td>\n",
       "    </tr>\n",
       "    <tr>\n",
       "      <th>9545</th>\n",
       "      <td>46</td>\n",
       "      <td>1</td>\n",
       "      <td>0</td>\n",
       "      <td>0</td>\n",
       "    </tr>\n",
       "    <tr>\n",
       "      <th>396134</th>\n",
       "      <td>64</td>\n",
       "      <td>0</td>\n",
       "      <td>9</td>\n",
       "      <td>0</td>\n",
       "    </tr>\n",
       "    <tr>\n",
       "      <th>308704</th>\n",
       "      <td>35</td>\n",
       "      <td>0</td>\n",
       "      <td>1</td>\n",
       "      <td>0</td>\n",
       "    </tr>\n",
       "    <tr>\n",
       "      <th>394677</th>\n",
       "      <td>28</td>\n",
       "      <td>1</td>\n",
       "      <td>4</td>\n",
       "      <td>0</td>\n",
       "    </tr>\n",
       "    <tr>\n",
       "      <th>...</th>\n",
       "      <td>...</td>\n",
       "      <td>...</td>\n",
       "      <td>...</td>\n",
       "      <td>...</td>\n",
       "    </tr>\n",
       "    <tr>\n",
       "      <th>309988</th>\n",
       "      <td>50</td>\n",
       "      <td>1</td>\n",
       "      <td>9</td>\n",
       "      <td>1</td>\n",
       "    </tr>\n",
       "    <tr>\n",
       "      <th>25597</th>\n",
       "      <td>4</td>\n",
       "      <td>1</td>\n",
       "      <td>8</td>\n",
       "      <td>0</td>\n",
       "    </tr>\n",
       "    <tr>\n",
       "      <th>10733</th>\n",
       "      <td>42</td>\n",
       "      <td>1</td>\n",
       "      <td>4</td>\n",
       "      <td>1</td>\n",
       "    </tr>\n",
       "    <tr>\n",
       "      <th>124934</th>\n",
       "      <td>26</td>\n",
       "      <td>0</td>\n",
       "      <td>6</td>\n",
       "      <td>0</td>\n",
       "    </tr>\n",
       "    <tr>\n",
       "      <th>399625</th>\n",
       "      <td>41</td>\n",
       "      <td>0</td>\n",
       "      <td>8</td>\n",
       "      <td>1</td>\n",
       "    </tr>\n",
       "  </tbody>\n",
       "</table>\n",
       "<p>149894 rows × 4 columns</p>\n",
       "</div>"
      ],
      "text/plain": [
       "        AGE  SEX  DISTRICT_NAME  TARGET\n",
       "365232   31    1              1       1\n",
       "9545     46    1              0       0\n",
       "396134   64    0              9       0\n",
       "308704   35    0              1       0\n",
       "394677   28    1              4       0\n",
       "...     ...  ...            ...     ...\n",
       "309988   50    1              9       1\n",
       "25597     4    1              8       0\n",
       "10733    42    1              4       1\n",
       "124934   26    0              6       0\n",
       "399625   41    0              8       1\n",
       "\n",
       "[149894 rows x 4 columns]"
      ]
     },
     "execution_count": 29,
     "metadata": {},
     "output_type": "execute_result"
    }
   ],
   "source": [
    "new_df.dropna(axis=0, how='any', thresh=None, subset=None, inplace=False)"
   ]
  },
  {
   "cell_type": "code",
   "execution_count": 30,
   "metadata": {
    "colab": {
     "base_uri": "https://localhost:8080/",
     "height": 506
    },
    "executionInfo": {
     "elapsed": 811,
     "status": "ok",
     "timestamp": 1650447978442,
     "user": {
      "displayName": "Dewansh Kumar",
      "userId": "00655038673658959143"
     },
     "user_tz": -330
    },
    "id": "W4GViL9MAwyt",
    "outputId": "5fdf1ebb-c950-4568-fb1b-bc606bb7d406"
   },
   "outputs": [
    {
     "data": {
      "image/png": "[encoded data removed]",
      "text/plain": [
       "<Figure size 576x576 with 2 Axes>"
      ]
     },
     "metadata": {
      "needs_background": "light"
     },
     "output_type": "display_data"
    },
    {
     "data": {
      "text/plain": [
       "'\\ncorrmat = df.corr()\\nf, ax = plt.subplots(nrows=1, ncols=1, figsize=(15, 15))\\nax.set_title(\"Correlation Matrix\", fontsize=12)\\nfilter = df.columns != \\'id\\'\\nsns.heatmap(df[df.columns[filter]].corr(), vmin=-1, vmax=1, cmap=\\'coolwarm\\', annot=True)\\n'"
      ]
     },
     "execution_count": 30,
     "metadata": {},
     "output_type": "execute_result"
    }
   ],
   "source": [
    "top = 15\n",
    "corr = new_df.corr()\n",
    "top15 = corr.nlargest(top, 'TARGET')['TARGET'].index\n",
    "corr_top15 = new_df[top15].corr()\n",
    "f,ax = plt.subplots(figsize=(8,8))\n",
    "sns.heatmap(corr_top15, square=True, ax=ax, annot=True, cmap='coolwarm', fmt='.2f', annot_kws={'size':12})\n",
    "plt.title('Top correlated features of dataset', size=16)\n",
    "plt.show()\n",
    "\"\"\"\n",
    "corrmat = df.corr()\n",
    "f, ax = plt.subplots(nrows=1, ncols=1, figsize=(15, 15))\n",
    "ax.set_title(\"Correlation Matrix\", fontsize=12)\n",
    "filter = df.columns != 'id'\n",
    "sns.heatmap(df[df.columns[filter]].corr(), vmin=-1, vmax=1, cmap='coolwarm', annot=True)\n",
    "\"\"\""
   ]
  },
  {
   "cell_type": "code",
   "execution_count": 31,
   "metadata": {
    "colab": {
     "base_uri": "https://localhost:8080/",
     "height": 279
    },
    "executionInfo": {
     "elapsed": 1736,
     "status": "ok",
     "timestamp": 1650447980167,
     "user": {
      "displayName": "Dewansh Kumar",
      "userId": "00655038673658959143"
     },
     "user_tz": -330
    },
    "id": "UpsEmOVwCG-j",
    "outputId": "13fc9653-a9f3-4193-cb50-dfb999b5cb11"
   },
   "outputs": [
    {
     "data": {
      "image/png": "[encoded data removed]",
      "text/plain": [
       "<Figure size 432x288 with 1 Axes>"
      ]
     },
     "metadata": {
      "needs_background": "light"
     },
     "output_type": "display_data"
    }
   ],
   "source": [
    "ax = sns.distplot(new_df['SEX']) # histogram distribution"
   ]
  },
  {
   "cell_type": "code",
   "execution_count": 32,
   "metadata": {
    "colab": {
     "base_uri": "https://localhost:8080/",
     "height": 368
    },
    "executionInfo": {
     "elapsed": 1610,
     "status": "ok",
     "timestamp": 1650447981765,
     "user": {
      "displayName": "Dewansh Kumar",
      "userId": "00655038673658959143"
     },
     "user_tz": -330
    },
    "id": "0mVtHx_cDG-C",
    "outputId": "02206f03-837c-4aa1-e877-5b110b7c7e9d"
   },
   "outputs": [
    {
     "data": {
      "text/plain": [
       "array([[<AxesSubplot:title={'center':'AGE'}>,\n",
       "        <AxesSubplot:title={'center':'SEX'}>],\n",
       "       [<AxesSubplot:title={'center':'DISTRICT_NAME'}>,\n",
       "        <AxesSubplot:title={'center':'TARGET'}>]], dtype=object)"
      ]
     },
     "execution_count": 32,
     "metadata": {},
     "output_type": "execute_result"
    },
    {
     "data": {
      "image/png": "[encoded data removed]",
      "text/plain": [
       "<Figure size 432x288 with 4 Axes>"
      ]
     },
     "metadata": {
      "needs_background": "light"
     },
     "output_type": "display_data"
    }
   ],
   "source": [
    "new_df.hist()"
   ]
  },
  {
   "cell_type": "code",
   "execution_count": 33,
   "metadata": {
    "colab": {
     "base_uri": "https://localhost:8080/"
    },
    "executionInfo": {
     "elapsed": 15,
     "status": "ok",
     "timestamp": 1650447981766,
     "user": {
      "displayName": "Dewansh Kumar",
      "userId": "00655038673658959143"
     },
     "user_tz": -330
    },
    "id": "c-ukJkHKDJ4H",
    "outputId": "58bcdb3f-8610-4f7c-eb68-23ad5234f17e"
   },
   "outputs": [
    {
     "name": "stdout",
     "output_type": "stream",
     "text": [
      "shape of X and y respectively : (149894, 3) (149894,)\n",
      "        AGE  SEX  DISTRICT_NAME\n",
      "365232   31    1              1\n",
      "9545     46    1              0\n",
      "396134   64    0              9\n",
      "308704   35    0              1\n",
      "394677   28    1              4\n",
      "...     ...  ...            ...\n",
      "309988   50    1              9\n",
      "25597     4    1              8\n",
      "10733    42    1              4\n",
      "124934   26    0              6\n",
      "399625   41    0              8\n",
      "\n",
      "[149894 rows x 3 columns]\n"
     ]
    }
   ],
   "source": [
    "X = new_df.drop('TARGET',1)\n",
    "\n",
    "y = new_df['TARGET']\n",
    "print('shape of X and y respectively :', X.shape, y.shape)\n",
    "print(X)"
   ]
  },
  {
   "cell_type": "code",
   "execution_count": 34,
   "metadata": {
    "colab": {
     "base_uri": "https://localhost:8080/"
    },
    "executionInfo": {
     "elapsed": 19,
     "status": "ok",
     "timestamp": 1650447982735,
     "user": {
      "displayName": "Dewansh Kumar",
      "userId": "00655038673658959143"
     },
     "user_tz": -330
    },
    "id": "2vm_He06Us6h",
    "outputId": "f1d76aa1-58f2-494b-b316-74ec6fd1e33f"
   },
   "outputs": [
    {
     "name": "stdout",
     "output_type": "stream",
     "text": [
      "shape of X and y respectively (train) : (119915, 3) (119915,)\n",
      "shape of X and y respectively (test) : (29979, 3) (29979,)\n"
     ]
    }
   ],
   "source": [
    "from sklearn.model_selection import train_test_split\n",
    "X_train, X_test, y_train, y_test = train_test_split(X, y, test_size=0.2, random_state=0)\n",
    "print('shape of X and y respectively (train) :', X_train.shape, y_train.shape)\n",
    "print('shape of X and y respectively (test) :', X_test.shape, y_test.shape)"
   ]
  },
  {
   "cell_type": "code",
   "execution_count": 35,
   "metadata": {
    "colab": {
     "base_uri": "https://localhost:8080/"
    },
    "executionInfo": {
     "elapsed": 734,
     "status": "ok",
     "timestamp": 1650447983455,
     "user": {
      "displayName": "Dewansh Kumar",
      "userId": "00655038673658959143"
     },
     "user_tz": -330
    },
    "id": "l2AN7bcDWgci",
    "outputId": "7626a744-8f4e-4557-b3c2-bad3b0b8218a"
   },
   "outputs": [
    {
     "name": "stdout",
     "output_type": "stream",
     "text": [
      "Logistic Regression\n"
     ]
    }
   ],
   "source": [
    "print('Logistic Regression')\n",
    "from sklearn.linear_model import LogisticRegression\n",
    "model = LogisticRegression(max_iter=1000)\n",
    "model.fit(X_train, y_train)\n",
    "Y_pred = model.predict(X_test)\n"
   ]
  },
  {
   "cell_type": "code",
   "execution_count": 36,
   "metadata": {
    "colab": {
     "base_uri": "https://localhost:8080/"
    },
    "executionInfo": {
     "elapsed": 8,
     "status": "ok",
     "timestamp": 1650447983456,
     "user": {
      "displayName": "Dewansh Kumar",
      "userId": "00655038673658959143"
     },
     "user_tz": -330
    },
    "id": "NPXc7VbwWiL6",
    "outputId": "83ae5142-18d0-467c-fe08-fcfb1996ae59"
   },
   "outputs": [
    {
     "name": "stdout",
     "output_type": "stream",
     "text": [
      "[0 1 1 ... 1 0 0]\n"
     ]
    }
   ],
   "source": [
    "print(Y_pred)"
   ]
  },
  {
   "cell_type": "code",
   "execution_count": 37,
   "metadata": {
    "colab": {
     "base_uri": "https://localhost:8080/"
    },
    "executionInfo": {
     "elapsed": 1676,
     "status": "ok",
     "timestamp": 1650447985127,
     "user": {
      "displayName": "Dewansh Kumar",
      "userId": "00655038673658959143"
     },
     "user_tz": -330
    },
    "id": "Iul7RvElVPzA",
    "outputId": "3402ac5c-d80a-41f9-cc73-f136900f2f1d"
   },
   "outputs": [
    {
     "name": "stdout",
     "output_type": "stream",
     "text": [
      "Logistic Regression\n",
      "Training Score: 0.6194721260893132\n",
      "Testing Score: 0.617865839420928\n",
      "   Predicted\n",
      "0          0\n",
      "1          1\n",
      "2          1\n",
      "3          0\n",
      "4          1\n",
      "% of people predicted with nephrological-disease: 0.5665632609493312\n",
      "              precision    recall  f1-score   support\n",
      "\n",
      "           0       0.64      0.55      0.59     15034\n",
      "           1       0.60      0.68      0.64     14945\n",
      "\n",
      "    accuracy                           0.62     29979\n",
      "   macro avg       0.62      0.62      0.62     29979\n",
      "weighted avg       0.62      0.62      0.62     29979\n",
      "\n",
      "\n",
      "\n",
      "\n",
      "accuracy: 0.617865839420928 \n",
      "precision: 0.60270827200471 \n",
      "recall: 0.6849782535965205 \n",
      "f score: 0.6412151581584716\n"
     ]
    }
   ],
   "source": [
    "print('Logistic Regression')\n",
    "from sklearn.linear_model import LogisticRegression\n",
    "model = LogisticRegression(max_iter=1000)\n",
    "model.fit(X_train, y_train)\n",
    "Y_pred = model.predict(X_test)\n",
    "score = model.score(X_train, y_train)\n",
    "print('Training Score:', score)\n",
    "score = model.score(X_test, y_test)\n",
    "print('Testing Score:', score)\n",
    "output = pd.DataFrame({'Predicted':Y_pred}) # Nephrological-Disease yes or no? 1/0\n",
    "print(output.head())\n",
    "people = output.loc[output.Predicted == 1][\"Predicted\"]\n",
    "rate_people = 0\n",
    "if len(people) > 0 :\n",
    "    rate_people = len(people)/len(output)\n",
    "print(\"% of people predicted with nephrological-disease:\", rate_people)\n",
    "score_logreg = score\n",
    "out_logreg = output\n",
    "from sklearn.metrics import classification_report,accuracy_score,precision_score,recall_score,f1_score\n",
    "print(classification_report(y_test,Y_pred))\n",
    "print(\"\\n\\n\\naccuracy: {} \\nprecision: {} \\nrecall: {} \\nf score: {}\".format(accuracy_score(y_test,Y_pred),precision_score(y_test,Y_pred),recall_score(y_test,Y_pred),f1_score(y_test,Y_pred)))"
   ]
  },
  {
   "cell_type": "code",
   "execution_count": 38,
   "metadata": {
    "colab": {
     "base_uri": "https://localhost:8080/",
     "height": 325
    },
    "executionInfo": {
     "elapsed": 817,
     "status": "ok",
     "timestamp": 1650447985938,
     "user": {
      "displayName": "Dewansh Kumar",
      "userId": "00655038673658959143"
     },
     "user_tz": -330
    },
    "id": "jSB-GmgTXriP",
    "outputId": "07108deb-d72d-4a8a-a0e5-f37c456301a8"
   },
   "outputs": [
    {
     "data": {
      "image/png": "[encoded data removed]",
      "text/plain": [
       "<Figure size 432x288 with 2 Axes>"
      ]
     },
     "metadata": {
      "needs_background": "light"
     },
     "output_type": "display_data"
    }
   ],
   "source": [
    "from sklearn.metrics import confusion_matrix\n",
    "confusion_matrix = confusion_matrix(y_test,Y_pred)\n",
    "class_names = [0,1]\n",
    "fig,ax = plt.subplots()\n",
    "tick_marks = np.arange(len(class_names))\n",
    "plt.xticks(tick_marks,class_names)\n",
    "plt.yticks(tick_marks,class_names)\n",
    "sns.heatmap(pd.DataFrame(confusion_matrix), annot = True, cmap = 'Greens', fmt = 'g')\n",
    "ax.xaxis.set_label_position('top')\n",
    "plt.tight_layout()\n",
    "plt.title('Confusion matrix for logistic regression')\n",
    "plt.ylabel('Actual label')\n",
    "plt.xlabel('Predicted label')\n",
    "plt.show()"
   ]
  },
  {
   "cell_type": "code",
   "execution_count": null,
   "metadata": {
    "executionInfo": {
     "elapsed": 13,
     "status": "ok",
     "timestamp": 1650447985940,
     "user": {
      "displayName": "Dewansh Kumar",
      "userId": "00655038673658959143"
     },
     "user_tz": -330
    },
    "id": "Ta0bQaPPNsWG"
   },
   "outputs": [],
   "source": []
  },
  {
   "cell_type": "code",
   "execution_count": 39,
   "metadata": {
    "colab": {
     "base_uri": "https://localhost:8080/",
     "height": 404
    },
    "executionInfo": {
     "elapsed": 958,
     "status": "ok",
     "timestamp": 1650447986885,
     "user": {
      "displayName": "Dewansh Kumar",
      "userId": "00655038673658959143"
     },
     "user_tz": -330
    },
    "id": "PhKRWLgwZYuP",
    "outputId": "d336f82c-8b3b-4e83-bcd9-fd65600d2ea8"
   },
   "outputs": [
    {
     "data": {
      "image/png": "[encoded data removed]",
      "text/plain": [
       "<Figure size 720x432 with 1 Axes>"
      ]
     },
     "metadata": {
      "needs_background": "light"
     },
     "output_type": "display_data"
    }
   ],
   "source": [
    "# ROC Curve\n",
    "from sklearn.metrics import roc_auc_score,roc_curve\n",
    "y_probabilities = model.predict_proba(X_test)[:,1]\n",
    "false_positive_rate_knn, true_positive_rate_knn, threshold_knn = roc_curve(y_test,y_probabilities)\n",
    "plt.figure(figsize=(10,6))\n",
    "plt.title('ROC for logistic regression')\n",
    "plt.plot(false_positive_rate_knn, true_positive_rate_knn, linewidth=5, color='green')\n",
    "plt.plot([0,1],ls='--',linewidth=5)\n",
    "plt.plot([0,0],[1,0],c='.5')\n",
    "plt.plot([1,1],c='.5')\n",
    "plt.text(0.2,0.6,'AUC: {:.2f}'.format(roc_auc_score(y_test,y_probabilities)),size= 16)\n",
    "plt.xlabel('False Positive Rate')\n",
    "plt.ylabel('True Positive Rate')\n",
    "plt.show()"
   ]
  },
  {
   "cell_type": "code",
   "execution_count": 40,
   "metadata": {
    "colab": {
     "base_uri": "https://localhost:8080/"
    },
    "executionInfo": {
     "elapsed": 26,
     "status": "ok",
     "timestamp": 1650447986887,
     "user": {
      "displayName": "Dewansh Kumar",
      "userId": "00655038673658959143"
     },
     "user_tz": -330
    },
    "id": "pSbLPUQnZ6wn",
    "outputId": "42ab2603-188e-4b43-90f4-fb72174ae4e3"
   },
   "outputs": [
    {
     "name": "stdout",
     "output_type": "stream",
     "text": [
      "DecisionTreeClassifier\n",
      "Training Score: 0.6293291081182504\n",
      "Testing Score: 0.6241035391440675\n",
      "   Predicted\n",
      "0          0\n",
      "1          1\n",
      "2          1\n",
      "3          0\n",
      "4          1\n",
      "% of people predicted with heart-disease: 0.5462490409953634\n",
      "              precision    recall  f1-score   support\n",
      "\n",
      "           0       0.64      0.58      0.61     15034\n",
      "           1       0.61      0.67      0.64     14945\n",
      "\n",
      "    accuracy                           0.62     29979\n",
      "   macro avg       0.63      0.62      0.62     29979\n",
      "weighted avg       0.63      0.62      0.62     29979\n",
      "\n",
      "\n",
      "\n",
      "\n",
      "accuracy: 0.6241035391440675 \n",
      "precision: 0.6122374206155349 \n",
      "recall: 0.6708598193375711 \n",
      "f score: 0.6402094441429073\n"
     ]
    }
   ],
   "source": [
    "print('DecisionTreeClassifier')\n",
    "from sklearn.tree import DecisionTreeClassifier\n",
    "model = DecisionTreeClassifier(max_depth=5) \n",
    "model.fit(X_train, y_train)  \n",
    "Y_pred = model.predict(X_test)\n",
    "score = model.score(X_train, y_train)\n",
    "print('Training Score:', score)\n",
    "score = model.score(X_test, y_test)\n",
    "print('Testing Score:', score)\n",
    "output = pd.DataFrame({'Predicted':Y_pred}) # Nephrological-Disease yes or no? 1/0\n",
    "print(output.head())\n",
    "people = output.loc[output.Predicted == 1][\"Predicted\"]\n",
    "rate_people = 0\n",
    "if len(people) > 0 :\n",
    "    rate_people = len(people)/len(output)\n",
    "print(\"% of people predicted with heart-disease:\", rate_people)\n",
    "score_dtc = score\n",
    "out_dtc = output\n",
    "from sklearn.metrics import classification_report,accuracy_score,precision_score,recall_score,f1_score\n",
    "print(classification_report(y_test,Y_pred))\n",
    "print(\"\\n\\n\\naccuracy: {} \\nprecision: {} \\nrecall: {} \\nf score: {}\".format(accuracy_score(y_test,Y_pred),precision_score(y_test,Y_pred),recall_score(y_test,Y_pred),f1_score(y_test,Y_pred)))"
   ]
  },
  {
   "cell_type": "code",
   "execution_count": 41,
   "metadata": {
    "colab": {
     "base_uri": "https://localhost:8080/",
     "height": 322
    },
    "executionInfo": {
     "elapsed": 1073,
     "status": "ok",
     "timestamp": 1650447987941,
     "user": {
      "displayName": "Dewansh Kumar",
      "userId": "00655038673658959143"
     },
     "user_tz": -330
    },
    "id": "nO_tfiD8_FTc",
    "outputId": "56fddfe4-ea21-4b1b-a214-478646ffbc19"
   },
   "outputs": [
    {
     "data": {
      "image/png": "[encoded data removed]",
      "text/plain": [
       "<Figure size 432x288 with 2 Axes>"
      ]
     },
     "metadata": {
      "needs_background": "light"
     },
     "output_type": "display_data"
    }
   ],
   "source": [
    "from sklearn.metrics import confusion_matrix\n",
    "confusion_matrix = confusion_matrix(y_test,Y_pred)\n",
    "class_names = [0,1]\n",
    "fig,ax = plt.subplots()\n",
    "tick_marks = np.arange(len(class_names))\n",
    "plt.xticks(tick_marks,class_names)\n",
    "plt.yticks(tick_marks,class_names)\n",
    "sns.heatmap(pd.DataFrame(confusion_matrix), annot = True, cmap = 'Greens', fmt = 'g')\n",
    "ax.xaxis.set_label_position('top')\n",
    "plt.tight_layout()\n",
    "plt.title('Confusion matrix for decision tree')\n",
    "plt.ylabel('Actual label')\n",
    "plt.xlabel('Predicted label')\n",
    "plt.show()"
   ]
  },
  {
   "cell_type": "code",
   "execution_count": 42,
   "metadata": {
    "colab": {
     "base_uri": "https://localhost:8080/",
     "height": 404
    },
    "executionInfo": {
     "elapsed": 15,
     "status": "ok",
     "timestamp": 1650447987942,
     "user": {
      "displayName": "Dewansh Kumar",
      "userId": "00655038673658959143"
     },
     "user_tz": -330
    },
    "id": "7dAYM9JZ_Lvf",
    "outputId": "5216df39-3413-420b-da1a-6243f1482297"
   },
   "outputs": [
    {
     "data": {
      "image/png": "[encoded data removed]",
      "text/plain": [
       "<Figure size 720x432 with 1 Axes>"
      ]
     },
     "metadata": {
      "needs_background": "light"
     },
     "output_type": "display_data"
    }
   ],
   "source": [
    "# ROC Curve\n",
    "from sklearn.metrics import roc_auc_score,roc_curve\n",
    "y_probabilities = model.predict_proba(X_test)[:,1]\n",
    "false_positive_rate, true_positive_rate, threshold = roc_curve(y_test,y_probabilities)\n",
    "plt.figure(figsize=(10,6))\n",
    "plt.title('ROC for decision tree')\n",
    "plt.plot(false_positive_rate, true_positive_rate, linewidth=5, color='green')\n",
    "plt.plot([0,1],ls='--',linewidth=5)\n",
    "plt.plot([0,0],[1,0],c='.5')\n",
    "plt.plot([1,1],c='.5')\n",
    "plt.text(0.2,0.6,'AUC: {:.2f}'.format(roc_auc_score(y_test,y_probabilities)),size= 16)\n",
    "plt.xlabel('False Positive Rate')\n",
    "plt.ylabel('True Positive Rate')\n",
    "plt.show()"
   ]
  },
  {
   "cell_type": "code",
   "execution_count": 43,
   "metadata": {
    "colab": {
     "base_uri": "https://localhost:8080/"
    },
    "executionInfo": {
     "elapsed": 16053,
     "status": "ok",
     "timestamp": 1650448003983,
     "user": {
      "displayName": "Dewansh Kumar",
      "userId": "00655038673658959143"
     },
     "user_tz": -330
    },
    "id": "ds782g67Z_LH",
    "outputId": "c5b1f8ae-344a-41f7-b2b7-4c426be6d399"
   },
   "outputs": [
    {
     "name": "stdout",
     "output_type": "stream",
     "text": [
      "RandomForestClassifier\n",
      "Training Score: 0.6773631322186549\n",
      "Testing Score: 0.6602955402114814\n",
      "   Predicted\n",
      "0          0\n",
      "1          1\n",
      "2          1\n",
      "3          0\n",
      "4          1\n",
      "% of people predicted with heart-disease: 0.5601587778111344\n",
      "              precision    recall  f1-score   support\n",
      "\n",
      "           0       0.68      0.60      0.64     15034\n",
      "           1       0.64      0.72      0.68     14945\n",
      "\n",
      "    accuracy                           0.66     29979\n",
      "   macro avg       0.66      0.66      0.66     29979\n",
      "weighted avg       0.66      0.66      0.66     29979\n",
      "\n",
      "\n",
      "\n",
      "\n",
      "accuracy: 0.6602955402114814 \n",
      "precision: 0.6417554933603287 \n",
      "recall: 0.7211107393777183 \n",
      "f score: 0.6791228180729725\n"
     ]
    }
   ],
   "source": [
    "print('RandomForestClassifier')\n",
    "from sklearn.ensemble import RandomForestClassifier\n",
    "model = RandomForestClassifier(n_estimators=100) # , max_depth=5, random_state=1\n",
    "model.fit(X_train, y_train)\n",
    "Y_pred = model.predict(X_test)\n",
    "score = model.score(X_train, y_train)\n",
    "print('Training Score:', score)\n",
    "score = model.score(X_test, y_test)\n",
    "print('Testing Score:', score)\n",
    "output = pd.DataFrame({'Predicted':Y_pred}) # Nephrological disease yes or no? 1/0\n",
    "print(output.head())\n",
    "people = output.loc[output.Predicted == 1][\"Predicted\"]\n",
    "rate_people = 0\n",
    "if len(people) > 0 :\n",
    "    rate_people = len(people)/len(output)\n",
    "print(\"% of people predicted with heart-disease:\", rate_people)\n",
    "score_rfc = score\n",
    "out_rfc = output\n",
    "from sklearn.metrics import classification_report,accuracy_score,precision_score,recall_score,f1_score\n",
    "print(classification_report(y_test,Y_pred))\n",
    "print(\"\\n\\n\\naccuracy: {} \\nprecision: {} \\nrecall: {} \\nf score: {}\".format(accuracy_score(y_test,Y_pred),precision_score(y_test,Y_pred),recall_score(y_test,Y_pred),f1_score(y_test,Y_pred)))"
   ]
  },
  {
   "cell_type": "code",
   "execution_count": 44,
   "metadata": {
    "colab": {
     "base_uri": "https://localhost:8080/",
     "height": 325
    },
    "executionInfo": {
     "elapsed": 18,
     "status": "ok",
     "timestamp": 1650448003985,
     "user": {
      "displayName": "Dewansh Kumar",
      "userId": "00655038673658959143"
     },
     "user_tz": -330
    },
    "id": "lNGU5x6l_jnA",
    "outputId": "38692e66-3df9-4e87-e33b-61bd7c1aa19d"
   },
   "outputs": [
    {
     "data": {
      "image/png": "[encoded data removed]",
      "text/plain": [
       "<Figure size 432x288 with 2 Axes>"
      ]
     },
     "metadata": {
      "needs_background": "light"
     },
     "output_type": "display_data"
    }
   ],
   "source": [
    "from sklearn.metrics import confusion_matrix\n",
    "confusion_matrix = confusion_matrix(y_test,Y_pred)\n",
    "class_names = [0,1]\n",
    "fig,ax = plt.subplots()\n",
    "tick_marks = np.arange(len(class_names))\n",
    "plt.xticks(tick_marks,class_names)\n",
    "plt.yticks(tick_marks,class_names)\n",
    "sns.heatmap(pd.DataFrame(confusion_matrix), annot = True, cmap = 'Greens', fmt = 'g')\n",
    "ax.xaxis.set_label_position('top')\n",
    "plt.tight_layout()\n",
    "plt.title('Confusion matrix for random forest')\n",
    "plt.ylabel('Actual label')\n",
    "plt.xlabel('Predicted label')\n",
    "plt.show()"
   ]
  },
  {
   "cell_type": "code",
   "execution_count": 45,
   "metadata": {
    "colab": {
     "base_uri": "https://localhost:8080/",
     "height": 404
    },
    "executionInfo": {
     "elapsed": 1124,
     "status": "ok",
     "timestamp": 1650448005094,
     "user": {
      "displayName": "Dewansh Kumar",
      "userId": "00655038673658959143"
     },
     "user_tz": -330
    },
    "id": "qY_cOP0j_oJm",
    "outputId": "0446af13-f4a7-443d-8eaf-28dbb03f4f2a"
   },
   "outputs": [
    {
     "data": {
      "image/png": "[encoded data removed]",
      "text/plain": [
       "<Figure size 720x432 with 1 Axes>"
      ]
     },
     "metadata": {
      "needs_background": "light"
     },
     "output_type": "display_data"
    }
   ],
   "source": [
    "# ROC Curve\n",
    "from sklearn.metrics import roc_auc_score,roc_curve\n",
    "y_probabilities = model.predict_proba(X_test)[:,1]\n",
    "false_positive_rate, true_positive_rate, threshold_knn = roc_curve(y_test,y_probabilities)\n",
    "plt.figure(figsize=(10,6))\n",
    "plt.title('ROC for random forest')\n",
    "plt.plot(false_positive_rate, true_positive_rate, linewidth=5, color='green')\n",
    "plt.plot([0,1],ls='--',linewidth=5)\n",
    "plt.plot([0,0],[1,0],c='.5')\n",
    "plt.plot([1,1],c='.5')\n",
    "plt.text(0.2,0.6,'AUC: {:.2f}'.format(roc_auc_score(y_test,y_probabilities)),size= 16)\n",
    "plt.xlabel('False Positive Rate')\n",
    "plt.ylabel('True Positive Rate')\n",
    "plt.show()"
   ]
  },
  {
   "cell_type": "code",
   "execution_count": 46,
   "metadata": {
    "colab": {
     "base_uri": "https://localhost:8080/"
    },
    "executionInfo": {
     "elapsed": 6392,
     "status": "ok",
     "timestamp": 1650448011467,
     "user": {
      "displayName": "Dewansh Kumar",
      "userId": "00655038673658959143"
     },
     "user_tz": -330
    },
    "id": "VldghErMat3q",
    "outputId": "a0c6a1a8-280d-400d-c1a5-667572b9069d"
   },
   "outputs": [
    {
     "name": "stdout",
     "output_type": "stream",
     "text": [
      "KNeighborsClassifier\n",
      "Training Score: 0.617865839420928\n",
      "Testing Score: 0.6244371059741819\n",
      "   Predicted\n",
      "0          0\n",
      "1          1\n",
      "2          1\n",
      "3          0\n",
      "4          0\n",
      "% of people predicted with heart-disease: 0.5254344707962241\n",
      "              precision    recall  f1-score   support\n",
      "\n",
      "           0       0.63      0.60      0.62     15034\n",
      "           1       0.62      0.65      0.63     14945\n",
      "\n",
      "    accuracy                           0.62     29979\n",
      "   macro avg       0.62      0.62      0.62     29979\n",
      "weighted avg       0.62      0.62      0.62     29979\n",
      "\n",
      "\n",
      "\n",
      "\n",
      "accuracy: 0.6244371059741819 \n",
      "precision: 0.6170010157440325 \n",
      "recall: 0.6503178320508531 \n",
      "f score: 0.6332214874417695\n"
     ]
    }
   ],
   "source": [
    "print('KNeighborsClassifier')\n",
    "from sklearn.neighbors import KNeighborsClassifier\n",
    "model = KNeighborsClassifier()\n",
    "model.fit(X_train, y_train)\n",
    "Y_pred = model.predict(X_test)\n",
    "score = model.score(X_train, y_train)\n",
    "print('Training Score:', score_logreg)\n",
    "score = model.score(X_test, y_test)\n",
    "print('Testing Score:', score)\n",
    "output = pd.DataFrame({'Predicted':Y_pred}) # Nephrological-Disease yes or no? 1/0\n",
    "print(output.head())\n",
    "people = output.loc[output.Predicted == 1][\"Predicted\"]\n",
    "rate_people = 0\n",
    "if len(people) > 0 :\n",
    "    rate_people = len(people)/len(output)\n",
    "print(\"% of people predicted with heart-disease:\", rate_people)\n",
    "score_knc = score\n",
    "out_knc = output\n",
    "from sklearn.metrics import classification_report,accuracy_score,precision_score,recall_score,f1_score\n",
    "print(classification_report(y_test,Y_pred))\n",
    "print(\"\\n\\n\\naccuracy: {} \\nprecision: {} \\nrecall: {} \\nf score: {}\".format(accuracy_score(y_test,Y_pred),precision_score(y_test,Y_pred),recall_score(y_test,Y_pred),f1_score(y_test,Y_pred)))"
   ]
  },
  {
   "cell_type": "code",
   "execution_count": 47,
   "metadata": {
    "colab": {
     "base_uri": "https://localhost:8080/",
     "height": 321
    },
    "executionInfo": {
     "elapsed": 30,
     "status": "ok",
     "timestamp": 1650448011468,
     "user": {
      "displayName": "Dewansh Kumar",
      "userId": "00655038673658959143"
     },
     "user_tz": -330
    },
    "id": "5q6hL8Tf_vUb",
    "outputId": "7addfb74-0944-437b-e1c0-a2e1806a36ba"
   },
   "outputs": [
    {
     "data": {
      "image/png": "[encoded data removed]",
      "text/plain": [
       "<Figure size 432x288 with 2 Axes>"
      ]
     },
     "metadata": {
      "needs_background": "light"
     },
     "output_type": "display_data"
    }
   ],
   "source": [
    "from sklearn.metrics import confusion_matrix\n",
    "confusion_matrix = confusion_matrix(y_test,Y_pred)\n",
    "class_names = [0,1]\n",
    "fig,ax = plt.subplots()\n",
    "tick_marks = np.arange(len(class_names))\n",
    "plt.xticks(tick_marks,class_names)\n",
    "plt.yticks(tick_marks,class_names)\n",
    "sns.heatmap(pd.DataFrame(confusion_matrix), annot = True, cmap = 'Greens', fmt = 'g')\n",
    "ax.xaxis.set_label_position('top')\n",
    "plt.tight_layout()\n",
    "plt.title('Confusion matrix for knc')\n",
    "plt.ylabel('Actual label')\n",
    "plt.xlabel('Predicted label')\n",
    "plt.show()"
   ]
  },
  {
   "cell_type": "code",
   "execution_count": 48,
   "metadata": {
    "colab": {
     "base_uri": "https://localhost:8080/",
     "height": 404
    },
    "executionInfo": {
     "elapsed": 30,
     "status": "ok",
     "timestamp": 1650448012948,
     "user": {
      "displayName": "Dewansh Kumar",
      "userId": "00655038673658959143"
     },
     "user_tz": -330
    },
    "id": "25gqff75_0O_",
    "outputId": "d053ab17-8037-49b4-d66f-464cf3a4d6a6"
   },
   "outputs": [
    {
     "data": {
      "image/png": "[encoded data removed]",
      "text/plain": [
       "<Figure size 720x432 with 1 Axes>"
      ]
     },
     "metadata": {
      "needs_background": "light"
     },
     "output_type": "display_data"
    }
   ],
   "source": [
    "# ROC Curve\n",
    "from sklearn.metrics import roc_auc_score,roc_curve\n",
    "y_probabilities = model.predict_proba(X_test)[:,1]\n",
    "false_positive_rate, true_positive_rate, threshold = roc_curve(y_test,y_probabilities)\n",
    "plt.figure(figsize=(10,6))\n",
    "plt.title('ROC for knc')\n",
    "plt.plot(false_positive_rate, true_positive_rate, linewidth=5, color='green')\n",
    "plt.plot([0,1],ls='--',linewidth=5)\n",
    "plt.plot([0,0],[1,0],c='.5')\n",
    "plt.plot([1,1],c='.5')\n",
    "plt.text(0.2,0.6,'AUC: {:.2f}'.format(roc_auc_score(y_test,y_probabilities)),size= 16)\n",
    "plt.xlabel('False Positive Rate')\n",
    "plt.ylabel('True Positive Rate')\n",
    "plt.show()"
   ]
  },
  {
   "cell_type": "code",
   "execution_count": 49,
   "metadata": {
    "colab": {
     "base_uri": "https://localhost:8080/",
     "height": 437
    },
    "executionInfo": {
     "elapsed": 25,
     "status": "ok",
     "timestamp": 1650448012950,
     "user": {
      "displayName": "Dewansh Kumar",
      "userId": "00655038673658959143"
     },
     "user_tz": -330
    },
    "id": "C2bAGe4SaueP",
    "outputId": "cb7c2531-f303-4cca-95eb-de688a74a513"
   },
   "outputs": [
    {
     "data": {
      "image/png": "[encoded data removed]",
      "text/plain": [
       "<Figure size 640x480 with 1 Axes>"
      ]
     },
     "metadata": {},
     "output_type": "display_data"
    }
   ],
   "source": [
    "plt.rcdefaults()\n",
    "fig, ax = plt.subplots()\n",
    "algorithms = ('Logistic Regression', 'K Neighbors Classifier', 'Random Forest Classifier', 'Decision Tree Classifier')\n",
    "y_pos = np.arange(len(algorithms))\n",
    "x = (score_logreg, score_knc, score_rfc, score_dtc) # scores\n",
    "ax.barh(y_pos, x, align='center')\n",
    "ax.set_yticks(y_pos)\n",
    "ax.set_yticklabels(algorithms)\n",
    "ax.invert_yaxis() # labels read top-to-bottom\n",
    "ax.set_xlabel('Performance')\n",
    "ax.set_title('Which one is the best algorithm?')\n",
    "for i, v in enumerate(x):\n",
    "    ax.text(v + 1, i, str(v), color='black', va='center', fontweight='normal')\n",
    "plt.show()\n"
   ]
  },
  {
   "cell_type": "code",
   "execution_count": 50,
   "metadata": {
    "colab": {
     "base_uri": "https://localhost:8080/"
    },
    "executionInfo": {
     "elapsed": 23,
     "status": "ok",
     "timestamp": 1650448012951,
     "user": {
      "displayName": "Dewansh Kumar",
      "userId": "00655038673658959143"
     },
     "user_tz": -330
    },
    "id": "6iMKNBNQbD7k",
    "outputId": "06967179-f2f5-41b2-e2aa-6ef3886464c7"
   },
   "outputs": [
    {
     "name": "stdout",
     "output_type": "stream",
     "text": [
      "Logistic Regression! 0.617865839420928\n",
      "Decision Tree Classifier! 0.6241035391440675\n",
      "Random Forest Classifier! 0.6602955402114814\n"
     ]
    }
   ],
   "source": [
    "score = score_logreg\n",
    "output = out_logreg\n",
    "print(\"Logistic Regression!\", score)\n",
    "if score_dtc > score:\n",
    "    score = score_dtc\n",
    "    output = out_dtc\n",
    "    print(\"Decision Tree Classifier!\", score)\n",
    "if score_rfc > score:\n",
    "    score = score_rfc\n",
    "    output = out_rfc\n",
    "    print(\"Random Forest Classifier!\", score)\n",
    "if score_knc > score:\n",
    "    score = score_knc\n",
    "    output = out_knc\n",
    "    print(\"K Neighbors Classifier!\", score)"
   ]
  },
  {
   "cell_type": "code",
   "execution_count": 51,
   "metadata": {
    "executionInfo": {
     "elapsed": 18,
     "status": "ok",
     "timestamp": 1650448012952,
     "user": {
      "displayName": "Dewansh Kumar",
      "userId": "00655038673658959143"
     },
     "user_tz": -330
    },
    "id": "zNwi_bwdbjrz"
   },
   "outputs": [],
   "source": [
    "results=pd.DataFrame(columns=['score'])\n",
    "results.loc['Logistic Regression']=[score_logreg]\n",
    "results.loc['Decision Tree Classifier']=[score_dtc]\n",
    "results.loc['Random Forest Classifier']=[score_rfc]\n",
    "results.loc['K-Neighbors Classifier']=[score_knc]"
   ]
  },
  {
   "cell_type": "code",
   "execution_count": 52,
   "metadata": {
    "colab": {
     "base_uri": "https://localhost:8080/",
     "height": 174
    },
    "executionInfo": {
     "elapsed": 1220,
     "status": "ok",
     "timestamp": 1650448014155,
     "user": {
      "displayName": "Dewansh Kumar",
      "userId": "00655038673658959143"
     },
     "user_tz": -330
    },
    "id": "piLbNPX5bqQ3",
    "outputId": "1289f51f-dae9-4b40-dd21-9c068da77090"
   },
   "outputs": [
    {
     "data": {
      "text/html": [
       "<style type=\"text/css\">\n",
       "#T_3757b_row0_col0 {\n",
       "  background-color: #00441b;\n",
       "  color: #f1f1f1;\n",
       "}\n",
       "#T_3757b_row1_col0 {\n",
       "  background-color: #def2d9;\n",
       "  color: #000000;\n",
       "}\n",
       "#T_3757b_row2_col0 {\n",
       "  background-color: #e0f3db;\n",
       "  color: #000000;\n",
       "}\n",
       "#T_3757b_row3_col0 {\n",
       "  background-color: #f7fcf5;\n",
       "  color: #000000;\n",
       "}\n",
       "</style>\n",
       "<table id=\"T_3757b_\">\n",
       "  <thead>\n",
       "    <tr>\n",
       "      <th class=\"blank level0\" >&nbsp;</th>\n",
       "      <th class=\"col_heading level0 col0\" >score</th>\n",
       "    </tr>\n",
       "  </thead>\n",
       "  <tbody>\n",
       "    <tr>\n",
       "      <th id=\"T_3757b_level0_row0\" class=\"row_heading level0 row0\" >Random Forest Classifier</th>\n",
       "      <td id=\"T_3757b_row0_col0\" class=\"data row0 col0\" >0.660296</td>\n",
       "    </tr>\n",
       "    <tr>\n",
       "      <th id=\"T_3757b_level0_row1\" class=\"row_heading level0 row1\" >K-Neighbors Classifier</th>\n",
       "      <td id=\"T_3757b_row1_col0\" class=\"data row1 col0\" >0.624437</td>\n",
       "    </tr>\n",
       "    <tr>\n",
       "      <th id=\"T_3757b_level0_row2\" class=\"row_heading level0 row2\" >Decision Tree Classifier</th>\n",
       "      <td id=\"T_3757b_row2_col0\" class=\"data row2 col0\" >0.624104</td>\n",
       "    </tr>\n",
       "    <tr>\n",
       "      <th id=\"T_3757b_level0_row3\" class=\"row_heading level0 row3\" >Logistic Regression</th>\n",
       "      <td id=\"T_3757b_row3_col0\" class=\"data row3 col0\" >0.617866</td>\n",
       "    </tr>\n",
       "  </tbody>\n",
       "</table>\n"
      ],
      "text/plain": [
       "<pandas.io.formats.style.Styler at 0x1ef1f394250>"
      ]
     },
     "execution_count": 52,
     "metadata": {},
     "output_type": "execute_result"
    }
   ],
   "source": [
    "results.sort_values('score',ascending=False).style.background_gradient(cmap='Greens',subset=['score'])"
   ]
  },
  {
   "cell_type": "code",
   "execution_count": 53,
   "metadata": {
    "colab": {
     "base_uri": "https://localhost:8080/",
     "height": 548
    },
    "executionInfo": {
     "elapsed": 715,
     "status": "ok",
     "timestamp": 1650448101136,
     "user": {
      "displayName": "Dewansh Kumar",
      "userId": "00655038673658959143"
     },
     "user_tz": -330
    },
    "id": "C-g-SjQTbs63",
    "outputId": "559ef84a-4641-49c9-c219-17490a3991c5"
   },
   "outputs": [
    {
     "data": {
      "image/png": "[encoded data removed]",
      "text/plain": [
       "<Figure size 1000x600 with 1 Axes>"
      ]
     },
     "metadata": {},
     "output_type": "display_data"
    }
   ],
   "source": [
    "# set width of bar\n",
    "barWidth = 0.20\n",
    "fig = plt.subplots(figsize =(10, 6))\n",
    " \n",
    "# set height of bar\n",
    "LOGISTIC_REGRESSION= [0.6193335334734315 ,0.6076950523311132 ,0.6797259545031262, 0.641695447409733 ]\n",
    "DECISION_TREE = [0.6345775376096601, 0.624750499001996, 0.6697425610163825, 0.6464646464646465]\n",
    "RANDOM_FOREST = [0.6621301577771106, 0.6468826735341678, 0.7184382067314088, 0.6807853518641077 ]\n",
    "KNEIGHBOUR =[0.6186330431301912, 0.6195630519954844, 0.6205933218039111, 0.6200777589472635]\n",
    " \n",
    "# Set position of bar on X axis\n",
    "br1 = np.arange(len(LOGISTIC_REGRESSION))\n",
    "br2 = [x + barWidth for x in br1]\n",
    "br3 = [x + barWidth for x in br2]\n",
    "br4 = [x + barWidth for x in br3]\n",
    " \n",
    "# Make the plot\n",
    "plt.bar(br1, LOGISTIC_REGRESSION, color ='#00ffff', width = barWidth,\n",
    "        edgecolor ='grey', label ='LOGISTIC_REGRESSION')\n",
    "plt.bar(br2, DECISION_TREE, color ='#ff00ff', width = barWidth,\n",
    "        edgecolor ='grey', label ='DECISION_TREE')\n",
    "plt.bar(br3, RANDOM_FOREST, color ='#40ff00', width = barWidth,\n",
    "        edgecolor ='grey', label ='RANDOM_FOREST')\n",
    "plt.bar(br4, KNEIGHBOUR, color ='#ff0000', width = barWidth,\n",
    "        edgecolor ='grey', label ='KNEIGHBOUR')\n",
    " \n",
    " \n",
    "# Adding Xticks\n",
    "plt.xlabel('ALGORITHMS', fontweight ='bold', fontsize = 15)\n",
    "plt.ylabel('PERFORMANCE', fontweight ='bold', fontsize = 15)\n",
    "plt.xticks([r + barWidth for r in range(len(LOGISTIC_REGRESSION))],\n",
    "        ['Accuracy', 'Precision', 'Recall', 'F_score'])\n",
    "plt.legend()\n",
    "plt.show()"
   ]
  }
 ],
 "metadata": {
  "colab": {
   "authorship_tag": "ABX9TyPamqAKFPEFCqmqZ6tVLZp9",
   "collapsed_sections": [],
   "mount_file_id": "1jhwVS-oQEdduabvzRg7IZ1_5u575QhOR",
   "name": "Untitled0.ipynb",
   "provenance": []
  },
  "kernelspec": {
   "display_name": "Python 3 (ipykernel)",
   "language": "python",
   "name": "python3"
  },
  "language_info": {
   "codemirror_mode": {
    "name": "ipython",
    "version": 3
   },
   "file_extension": ".py",
   "mimetype": "text/x-python",
   "name": "python",
   "nbconvert_exporter": "python",
   "pygments_lexer": "ipython3",
   "version": "3.9.7"
  }
 },
 "nbformat": 4,
 "nbformat_minor": 1
}
